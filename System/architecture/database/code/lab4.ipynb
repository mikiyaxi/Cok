{
 "cells": [
  {
   "cell_type": "markdown",
   "id": "d04b15b4",
   "metadata": {},
   "source": [
    "# Students: Yuying Zhou, Xirong Cao"
   ]
  },
  {
   "cell_type": "code",
   "execution_count": 1,
   "id": "a97aad8e",
   "metadata": {},
   "outputs": [],
   "source": [
    "%load_ext sql"
   ]
  },
  {
   "cell_type": "markdown",
   "id": "bb6668d2",
   "metadata": {},
   "source": [
    "## &#x23f5; Initialize database"
   ]
  },
  {
   "cell_type": "code",
   "execution_count": 2,
   "id": "efa7add2",
   "metadata": {},
   "outputs": [
    {
     "data": {
      "text/plain": [
       "'Connected: @lab4.db3'"
      ]
     },
     "execution_count": 2,
     "metadata": {},
     "output_type": "execute_result"
    }
   ],
   "source": [
    "%sql sqlite:///lab4.db3"
   ]
  },
  {
   "cell_type": "markdown",
   "id": "81542fb9",
   "metadata": {},
   "source": [
    "## Q1: A is a superkey for a relation (A, B, C, D) "
   ]
  },
  {
   "cell_type": "markdown",
   "id": "5a4ebdae",
   "metadata": {},
   "source": [
    "**Step 1. create two tables T and F, T satisfies the requirement, F fails the requirement** <br>\n",
    "**Step 2. write SQL test two tables**"
   ]
  },
  {
   "cell_type": "markdown",
   "id": "863370f0",
   "metadata": {},
   "source": [
    "### *&#x23f5; create table T and F and Insert Values*"
   ]
  },
  {
   "cell_type": "code",
   "execution_count": 3,
   "id": "9fbf7a24",
   "metadata": {},
   "outputs": [
    {
     "name": "stdout",
     "output_type": "stream",
     "text": [
      " * sqlite:///lab4.db3\n",
      "Done.\n",
      "Done.\n",
      "5 rows affected.\n",
      "Done.\n",
      "Done.\n",
      "7 rows affected.\n"
     ]
    },
    {
     "data": {
      "text/plain": [
       "[]"
      ]
     },
     "execution_count": 3,
     "metadata": {},
     "output_type": "execute_result"
    }
   ],
   "source": [
    "%%sql\n",
    "drop table if exists T;\n",
    "create table T (\n",
    "ID int NOT NULL,\n",
    "FN varchar(50) NOT NULL,\n",
    "LN varchar(50) NOT NULL,\n",
    "Type varchar(50) NOT NULL\n",
    ");\n",
    "\n",
    "insert into T( ID, FN, LN, Type) values\n",
    "(1, \"Itachi\", \"Uchiha\", \"Fire\"),\n",
    "(2, \"Kisame\", \"Hoshigaki\", \"Water\"),\n",
    "(3, \"Naruto\", \"Uzumaki\", \"Wind\"),\n",
    "(4, \"Sasuke\", \"Uchiha\", \"Lighting\"),\n",
    "(5, \"Nara\", \"Shikamaru\", \"Negative\")\n",
    ";\n",
    "\n",
    "drop table if exists F;\n",
    "create table F (\n",
    "A INT NOT NULL,\n",
    "B varchar (50) NOT NULL,\n",
    "C varchar (50) NOT NULL,\n",
    "D varchar (50) NOT NULL\n",
    " );\n",
    "\n",
    "insert into F(\n",
    "A, B, C, D)\n",
    "VALUES \n",
    "(1,'Big Brother','gangster', '25'),\n",
    "(1, 'Little Brother', 'gangster', '25'),\n",
    "(2,'C++','programming', '37'),\n",
    "(3,'Water','human', 'inf'),\n",
    "(3,'Water','plants', 'inf'),\n",
    "(4,'Jazz','music', '101'),\n",
    "(4, 'Jazz', 'music', '96')\n",
    ";"
   ]
  },
  {
   "cell_type": "markdown",
   "id": "15e73dd0",
   "metadata": {},
   "source": [
    "### &#x23f5; *Display Tables*"
   ]
  },
  {
   "cell_type": "code",
   "execution_count": 4,
   "id": "e942f351",
   "metadata": {},
   "outputs": [
    {
     "name": "stdout",
     "output_type": "stream",
     "text": [
      " * sqlite:///lab4.db3\n",
      "Done.\n"
     ]
    },
    {
     "data": {
      "text/html": [
       "<table>\n",
       "    <thead>\n",
       "        <tr>\n",
       "            <th>ID</th>\n",
       "            <th>FN</th>\n",
       "            <th>LN</th>\n",
       "            <th>Type</th>\n",
       "        </tr>\n",
       "    </thead>\n",
       "    <tbody>\n",
       "        <tr>\n",
       "            <td>1</td>\n",
       "            <td>Itachi</td>\n",
       "            <td>Uchiha</td>\n",
       "            <td>Fire</td>\n",
       "        </tr>\n",
       "        <tr>\n",
       "            <td>2</td>\n",
       "            <td>Kisame</td>\n",
       "            <td>Hoshigaki</td>\n",
       "            <td>Water</td>\n",
       "        </tr>\n",
       "        <tr>\n",
       "            <td>3</td>\n",
       "            <td>Naruto</td>\n",
       "            <td>Uzumaki</td>\n",
       "            <td>Wind</td>\n",
       "        </tr>\n",
       "        <tr>\n",
       "            <td>4</td>\n",
       "            <td>Sasuke</td>\n",
       "            <td>Uchiha</td>\n",
       "            <td>Lighting</td>\n",
       "        </tr>\n",
       "        <tr>\n",
       "            <td>5</td>\n",
       "            <td>Nara</td>\n",
       "            <td>Shikamaru</td>\n",
       "            <td>Negative</td>\n",
       "        </tr>\n",
       "    </tbody>\n",
       "</table>"
      ],
      "text/plain": [
       "[(1, 'Itachi', 'Uchiha', 'Fire'),\n",
       " (2, 'Kisame', 'Hoshigaki', 'Water'),\n",
       " (3, 'Naruto', 'Uzumaki', 'Wind'),\n",
       " (4, 'Sasuke', 'Uchiha', 'Lighting'),\n",
       " (5, 'Nara', 'Shikamaru', 'Negative')]"
      ]
     },
     "execution_count": 4,
     "metadata": {},
     "output_type": "execute_result"
    }
   ],
   "source": [
    "%%sql\n",
    "select * from T"
   ]
  },
  {
   "cell_type": "code",
   "execution_count": 5,
   "id": "3a166fa3",
   "metadata": {},
   "outputs": [
    {
     "name": "stdout",
     "output_type": "stream",
     "text": [
      " * sqlite:///lab4.db3\n",
      "Done.\n"
     ]
    },
    {
     "data": {
      "text/html": [
       "<table>\n",
       "    <thead>\n",
       "        <tr>\n",
       "            <th>A</th>\n",
       "            <th>B</th>\n",
       "            <th>C</th>\n",
       "            <th>D</th>\n",
       "        </tr>\n",
       "    </thead>\n",
       "    <tbody>\n",
       "        <tr>\n",
       "            <td>1</td>\n",
       "            <td>Big Brother</td>\n",
       "            <td>gangster</td>\n",
       "            <td>25</td>\n",
       "        </tr>\n",
       "        <tr>\n",
       "            <td>1</td>\n",
       "            <td>Little Brother</td>\n",
       "            <td>gangster</td>\n",
       "            <td>25</td>\n",
       "        </tr>\n",
       "        <tr>\n",
       "            <td>2</td>\n",
       "            <td>C++</td>\n",
       "            <td>programming</td>\n",
       "            <td>37</td>\n",
       "        </tr>\n",
       "        <tr>\n",
       "            <td>3</td>\n",
       "            <td>Water</td>\n",
       "            <td>human</td>\n",
       "            <td>inf</td>\n",
       "        </tr>\n",
       "        <tr>\n",
       "            <td>3</td>\n",
       "            <td>Water</td>\n",
       "            <td>plants</td>\n",
       "            <td>inf</td>\n",
       "        </tr>\n",
       "        <tr>\n",
       "            <td>4</td>\n",
       "            <td>Jazz</td>\n",
       "            <td>music</td>\n",
       "            <td>101</td>\n",
       "        </tr>\n",
       "        <tr>\n",
       "            <td>4</td>\n",
       "            <td>Jazz</td>\n",
       "            <td>music</td>\n",
       "            <td>96</td>\n",
       "        </tr>\n",
       "    </tbody>\n",
       "</table>"
      ],
      "text/plain": [
       "[(1, 'Big Brother', 'gangster', '25'),\n",
       " (1, 'Little Brother', 'gangster', '25'),\n",
       " (2, 'C++', 'programming', '37'),\n",
       " (3, 'Water', 'human', 'inf'),\n",
       " (3, 'Water', 'plants', 'inf'),\n",
       " (4, 'Jazz', 'music', '101'),\n",
       " (4, 'Jazz', 'music', '96')]"
      ]
     },
     "execution_count": 5,
     "metadata": {},
     "output_type": "execute_result"
    }
   ],
   "source": [
    "%%sql\n",
    "select * from F"
   ]
  },
  {
   "cell_type": "markdown",
   "id": "1c650038",
   "metadata": {},
   "source": [
    "### &#x23f5; *Testing SQL F* \n",
    "*self-join tables and check if there are more than one distinct attributes(B, C, D) for A*"
   ]
  },
  {
   "cell_type": "code",
   "execution_count": 6,
   "id": "0f3c25d3",
   "metadata": {},
   "outputs": [
    {
     "name": "stdout",
     "output_type": "stream",
     "text": [
      " * sqlite:///lab4.db3\n",
      "Done.\n"
     ]
    },
    {
     "data": {
      "text/html": [
       "<table>\n",
       "    <thead>\n",
       "        <tr>\n",
       "            <th>A</th>\n",
       "            <th>B</th>\n",
       "            <th>C</th>\n",
       "            <th>D</th>\n",
       "            <th>A_1</th>\n",
       "            <th>B_1</th>\n",
       "            <th>C_1</th>\n",
       "            <th>D_1</th>\n",
       "        </tr>\n",
       "    </thead>\n",
       "    <tbody>\n",
       "        <tr>\n",
       "            <td>1</td>\n",
       "            <td>Big Brother</td>\n",
       "            <td>gangster</td>\n",
       "            <td>25</td>\n",
       "            <td>1</td>\n",
       "            <td>Big Brother</td>\n",
       "            <td>gangster</td>\n",
       "            <td>25</td>\n",
       "        </tr>\n",
       "        <tr>\n",
       "            <td>3</td>\n",
       "            <td>Water</td>\n",
       "            <td>human</td>\n",
       "            <td>inf</td>\n",
       "            <td>3</td>\n",
       "            <td>Water</td>\n",
       "            <td>human</td>\n",
       "            <td>inf</td>\n",
       "        </tr>\n",
       "        <tr>\n",
       "            <td>4</td>\n",
       "            <td>Jazz</td>\n",
       "            <td>music</td>\n",
       "            <td>101</td>\n",
       "            <td>4</td>\n",
       "            <td>Jazz</td>\n",
       "            <td>music</td>\n",
       "            <td>101</td>\n",
       "        </tr>\n",
       "    </tbody>\n",
       "</table>"
      ],
      "text/plain": [
       "[(1, 'Big Brother', 'gangster', '25', 1, 'Big Brother', 'gangster', '25'),\n",
       " (3, 'Water', 'human', 'inf', 3, 'Water', 'human', 'inf'),\n",
       " (4, 'Jazz', 'music', '101', 4, 'Jazz', 'music', '101')]"
      ]
     },
     "execution_count": 6,
     "metadata": {},
     "output_type": "execute_result"
    }
   ],
   "source": [
    "%%sql\n",
    "select * from F as f1, F as f2\n",
    "where f1.A = f2.A\n",
    "group by f1.A\n",
    "having count(distinct(f2.B)) > 1 or count(distinct(f2.C)) > 1 or count(distinct(f2.D)) > 1"
   ]
  },
  {
   "cell_type": "markdown",
   "id": "b5dae1b1",
   "metadata": {},
   "source": [
    "### &#x23f5; *Testing SQL T* "
   ]
  },
  {
   "cell_type": "code",
   "execution_count": 7,
   "id": "9a091b5a",
   "metadata": {},
   "outputs": [
    {
     "name": "stdout",
     "output_type": "stream",
     "text": [
      " * sqlite:///lab4.db3\n",
      "Done.\n"
     ]
    },
    {
     "data": {
      "text/html": [
       "<table>\n",
       "    <thead>\n",
       "        <tr>\n",
       "            <th>ID</th>\n",
       "            <th>FN</th>\n",
       "            <th>LN</th>\n",
       "            <th>Type</th>\n",
       "            <th>ID_1</th>\n",
       "            <th>FN_1</th>\n",
       "            <th>LN_1</th>\n",
       "            <th>Type_1</th>\n",
       "        </tr>\n",
       "    </thead>\n",
       "    <tbody>\n",
       "    </tbody>\n",
       "</table>"
      ],
      "text/plain": [
       "[]"
      ]
     },
     "execution_count": 7,
     "metadata": {},
     "output_type": "execute_result"
    }
   ],
   "source": [
    "%%sql\n",
    "select * from T as t1, T as t2\n",
    "where t1.ID = t2.ID\n",
    "group by t1.ID\n",
    "having count(distinct(t2.FN)) > 1 or count(distinct(t2.LN)) > 1 or count(distinct(t2.Type)) > 1"
   ]
  },
  {
   "cell_type": "markdown",
   "id": "951fda73",
   "metadata": {},
   "source": [
    "----"
   ]
  },
  {
   "cell_type": "markdown",
   "id": "51f13ede",
   "metadata": {},
   "source": [
    "## Q2: The combinations of two attributes in the relation T (A, B, C, D) are each keys"
   ]
  },
  {
   "cell_type": "markdown",
   "id": "e799296e",
   "metadata": {},
   "source": [
    "**Step 1. create four tables** <br>\n",
    "**Step 2. write SQL testing tables(A, B) -> (A, B, C, D) and (B, C) -> (A, B, C, D)**"
   ]
  },
  {
   "cell_type": "markdown",
   "id": "e9cc3b4c",
   "metadata": {},
   "source": [
    "### *&#x23f5; create tables and Insert value testing for (A, B)*"
   ]
  },
  {
   "cell_type": "code",
   "execution_count": 8,
   "id": "0eee022f",
   "metadata": {},
   "outputs": [
    {
     "name": "stdout",
     "output_type": "stream",
     "text": [
      " * sqlite:///lab4.db3\n",
      "Done.\n",
      "Done.\n",
      "5 rows affected.\n",
      "Done.\n",
      "Done.\n",
      "5 rows affected.\n"
     ]
    },
    {
     "data": {
      "text/plain": [
       "[]"
      ]
     },
     "execution_count": 8,
     "metadata": {},
     "output_type": "execute_result"
    }
   ],
   "source": [
    "%%sql\n",
    "drop table if exists F1q2;\n",
    "create table F1q2 (\n",
    "A INT NOT NULL,\n",
    "B varchar (50) NOT NULL,\n",
    "C varchar (50) NOT NULL,\n",
    "D varchar (50) NOT NULL\n",
    " );\n",
    "\n",
    "\n",
    "insert into F1q2(\n",
    "A, B, C, D)\n",
    "VALUES \n",
    "(1, 'music', 'Jazz', '96'),\n",
    "(1, 'music', 'Jazz', '49'),\n",
    "(2, 'nature', 'Water', '3'),\n",
    "(2, 'nature', 'Fire', '3'),\n",
    "(3, 'jojo', 'jotaro', '40')\n",
    ";\n",
    "\n",
    "drop table if exists T1q2;\n",
    "create table T1q2 (\n",
    "A INT NOT NULL,\n",
    "B varchar (50) NOT NULL,\n",
    "C varchar (50) NOT NULL,\n",
    "D varchar (50) NOT NULL\n",
    " );\n",
    "\n",
    "insert into T1q2(\n",
    "A, B, C, D)\n",
    "VALUES \n",
    "(1, 'music', 'Jazz', '96'),\n",
    "(1, 'music', 'Jazz', '96'),\n",
    "(2, 'nature', 'Water', '3'),\n",
    "(2, 'nature', 'Water', '3'),\n",
    "(3, 'jojo', 'jotaro', '40')\n",
    ";"
   ]
  },
  {
   "cell_type": "markdown",
   "id": "d102a2a7",
   "metadata": {},
   "source": [
    "### &#x23f5; *Display Tables*"
   ]
  },
  {
   "cell_type": "code",
   "execution_count": 9,
   "id": "5e807e36",
   "metadata": {},
   "outputs": [
    {
     "name": "stdout",
     "output_type": "stream",
     "text": [
      " * sqlite:///lab4.db3\n",
      "Done.\n"
     ]
    },
    {
     "data": {
      "text/html": [
       "<table>\n",
       "    <thead>\n",
       "        <tr>\n",
       "            <th>A</th>\n",
       "            <th>B</th>\n",
       "            <th>C</th>\n",
       "            <th>D</th>\n",
       "        </tr>\n",
       "    </thead>\n",
       "    <tbody>\n",
       "        <tr>\n",
       "            <td>1</td>\n",
       "            <td>music</td>\n",
       "            <td>Jazz</td>\n",
       "            <td>96</td>\n",
       "        </tr>\n",
       "        <tr>\n",
       "            <td>1</td>\n",
       "            <td>music</td>\n",
       "            <td>Jazz</td>\n",
       "            <td>96</td>\n",
       "        </tr>\n",
       "        <tr>\n",
       "            <td>2</td>\n",
       "            <td>nature</td>\n",
       "            <td>Water</td>\n",
       "            <td>3</td>\n",
       "        </tr>\n",
       "        <tr>\n",
       "            <td>2</td>\n",
       "            <td>nature</td>\n",
       "            <td>Water</td>\n",
       "            <td>3</td>\n",
       "        </tr>\n",
       "        <tr>\n",
       "            <td>3</td>\n",
       "            <td>jojo</td>\n",
       "            <td>jotaro</td>\n",
       "            <td>40</td>\n",
       "        </tr>\n",
       "    </tbody>\n",
       "</table>"
      ],
      "text/plain": [
       "[(1, 'music', 'Jazz', '96'),\n",
       " (1, 'music', 'Jazz', '96'),\n",
       " (2, 'nature', 'Water', '3'),\n",
       " (2, 'nature', 'Water', '3'),\n",
       " (3, 'jojo', 'jotaro', '40')]"
      ]
     },
     "execution_count": 9,
     "metadata": {},
     "output_type": "execute_result"
    }
   ],
   "source": [
    "%%sql\n",
    "select * from T1q2"
   ]
  },
  {
   "cell_type": "code",
   "execution_count": 10,
   "id": "3319d4f4",
   "metadata": {},
   "outputs": [
    {
     "name": "stdout",
     "output_type": "stream",
     "text": [
      " * sqlite:///lab4.db3\n",
      "Done.\n"
     ]
    },
    {
     "data": {
      "text/html": [
       "<table>\n",
       "    <thead>\n",
       "        <tr>\n",
       "            <th>A</th>\n",
       "            <th>B</th>\n",
       "            <th>C</th>\n",
       "            <th>D</th>\n",
       "        </tr>\n",
       "    </thead>\n",
       "    <tbody>\n",
       "        <tr>\n",
       "            <td>1</td>\n",
       "            <td>music</td>\n",
       "            <td>Jazz</td>\n",
       "            <td>96</td>\n",
       "        </tr>\n",
       "        <tr>\n",
       "            <td>1</td>\n",
       "            <td>music</td>\n",
       "            <td>Jazz</td>\n",
       "            <td>49</td>\n",
       "        </tr>\n",
       "        <tr>\n",
       "            <td>2</td>\n",
       "            <td>nature</td>\n",
       "            <td>Water</td>\n",
       "            <td>3</td>\n",
       "        </tr>\n",
       "        <tr>\n",
       "            <td>2</td>\n",
       "            <td>nature</td>\n",
       "            <td>Fire</td>\n",
       "            <td>3</td>\n",
       "        </tr>\n",
       "        <tr>\n",
       "            <td>3</td>\n",
       "            <td>jojo</td>\n",
       "            <td>jotaro</td>\n",
       "            <td>40</td>\n",
       "        </tr>\n",
       "    </tbody>\n",
       "</table>"
      ],
      "text/plain": [
       "[(1, 'music', 'Jazz', '96'),\n",
       " (1, 'music', 'Jazz', '49'),\n",
       " (2, 'nature', 'Water', '3'),\n",
       " (2, 'nature', 'Fire', '3'),\n",
       " (3, 'jojo', 'jotaro', '40')]"
      ]
     },
     "execution_count": 10,
     "metadata": {},
     "output_type": "execute_result"
    }
   ],
   "source": [
    "%%sql \n",
    "select * from F1q2"
   ]
  },
  {
   "cell_type": "markdown",
   "id": "8d536853",
   "metadata": {},
   "source": [
    "### &#x23f5; *Testing SQL for T1*"
   ]
  },
  {
   "cell_type": "code",
   "execution_count": 11,
   "id": "91848b14",
   "metadata": {},
   "outputs": [
    {
     "name": "stdout",
     "output_type": "stream",
     "text": [
      " * sqlite:///lab4.db3\n",
      "Done.\n"
     ]
    },
    {
     "data": {
      "text/html": [
       "<table>\n",
       "    <thead>\n",
       "        <tr>\n",
       "            <th>A</th>\n",
       "            <th>B</th>\n",
       "            <th>C</th>\n",
       "            <th>D</th>\n",
       "            <th>A_1</th>\n",
       "            <th>B_1</th>\n",
       "            <th>C_1</th>\n",
       "            <th>D_1</th>\n",
       "        </tr>\n",
       "    </thead>\n",
       "    <tbody>\n",
       "    </tbody>\n",
       "</table>"
      ],
      "text/plain": [
       "[]"
      ]
     },
     "execution_count": 11,
     "metadata": {},
     "output_type": "execute_result"
    }
   ],
   "source": [
    "%%sql\n",
    "select * from T1q2 as t1, T1q2 as t2\n",
    "where t1.A = t2.A\n",
    "and t1.B = t2.B\n",
    "group by t1.A\n",
    "having count(distinct(t2.C)) > 1 or count(distinct(t2.D)) > 1"
   ]
  },
  {
   "cell_type": "markdown",
   "id": "12ced37a",
   "metadata": {},
   "source": [
    "### &#x23f5; *Testing SQL for F1*"
   ]
  },
  {
   "cell_type": "code",
   "execution_count": 12,
   "id": "2ca6821b",
   "metadata": {},
   "outputs": [
    {
     "name": "stdout",
     "output_type": "stream",
     "text": [
      " * sqlite:///lab4.db3\n",
      "Done.\n"
     ]
    },
    {
     "data": {
      "text/html": [
       "<table>\n",
       "    <thead>\n",
       "        <tr>\n",
       "            <th>A</th>\n",
       "            <th>B</th>\n",
       "            <th>C</th>\n",
       "            <th>D</th>\n",
       "            <th>A_1</th>\n",
       "            <th>B_1</th>\n",
       "            <th>C_1</th>\n",
       "            <th>D_1</th>\n",
       "        </tr>\n",
       "    </thead>\n",
       "    <tbody>\n",
       "        <tr>\n",
       "            <td>1</td>\n",
       "            <td>music</td>\n",
       "            <td>Jazz</td>\n",
       "            <td>96</td>\n",
       "            <td>1</td>\n",
       "            <td>music</td>\n",
       "            <td>Jazz</td>\n",
       "            <td>49</td>\n",
       "        </tr>\n",
       "        <tr>\n",
       "            <td>2</td>\n",
       "            <td>nature</td>\n",
       "            <td>Water</td>\n",
       "            <td>3</td>\n",
       "            <td>2</td>\n",
       "            <td>nature</td>\n",
       "            <td>Fire</td>\n",
       "            <td>3</td>\n",
       "        </tr>\n",
       "    </tbody>\n",
       "</table>"
      ],
      "text/plain": [
       "[(1, 'music', 'Jazz', '96', 1, 'music', 'Jazz', '49'),\n",
       " (2, 'nature', 'Water', '3', 2, 'nature', 'Fire', '3')]"
      ]
     },
     "execution_count": 12,
     "metadata": {},
     "output_type": "execute_result"
    }
   ],
   "source": [
    "%%sql\n",
    "select * from F1q2 as f1, F1q2 as f2\n",
    "where f1.A = f2.A\n",
    "and f1.B = f2.B\n",
    "group by f1.A\n",
    "having count(distinct(f2.C)) > 1 or count(distinct(f2.D)) > 1"
   ]
  },
  {
   "cell_type": "markdown",
   "id": "636ad555",
   "metadata": {},
   "source": [
    "### *&#x23f5; create tables testing for (B, C)*"
   ]
  },
  {
   "cell_type": "code",
   "execution_count": 13,
   "id": "27eb8955",
   "metadata": {},
   "outputs": [
    {
     "name": "stdout",
     "output_type": "stream",
     "text": [
      " * sqlite:///lab4.db3\n",
      "Done.\n",
      "Done.\n",
      "5 rows affected.\n",
      "Done.\n",
      "Done.\n",
      "5 rows affected.\n"
     ]
    },
    {
     "data": {
      "text/plain": [
       "[]"
      ]
     },
     "execution_count": 13,
     "metadata": {},
     "output_type": "execute_result"
    }
   ],
   "source": [
    "%%sql\n",
    "drop table if exists F2q2;\n",
    "create table F2q2 (\n",
    "A INT NOT NULL,\n",
    "B varchar (50) NOT NULL,\n",
    "C varchar (50) NOT NULL,\n",
    "D varchar (50) NOT NULL\n",
    " );\n",
    "\n",
    "insert into F2q2(\n",
    "A, B, C, D)\n",
    "VALUES \n",
    "('Jazz', 'music', 1, '96'),\n",
    "('Jazz', 'music', 1, '49'),\n",
    "('Water', 'nature', 2, '3'),\n",
    "('Fire', 'nature', 2, '3'),\n",
    "('jotaro', 'jojo', 3, '40')\n",
    ";\n",
    "\n",
    "drop table if exists T2q2;\n",
    "create table T2q2 (\n",
    "A INT NOT NULL,\n",
    "B varchar (50) NOT NULL,\n",
    "C varchar (50) NOT NULL,\n",
    "D varchar (50) NOT NULL\n",
    " );\n",
    "\n",
    "insert into T2q2(\n",
    "A, B, C, D)\n",
    "VALUES \n",
    "('Jazz', 'music', 1, '96'),\n",
    "('Jazz', 'music', 1, '96'),\n",
    "('Water', 'nature', 2, '3'),\n",
    "('Water', 'nature', 2, '3'),\n",
    "('jotaro', 'jojo', 3, '40')\n",
    ";"
   ]
  },
  {
   "cell_type": "markdown",
   "id": "6ab9c4c1",
   "metadata": {},
   "source": [
    "### &#x23f5; *Display Tables*"
   ]
  },
  {
   "cell_type": "code",
   "execution_count": 14,
   "id": "0fb20c85",
   "metadata": {},
   "outputs": [
    {
     "name": "stdout",
     "output_type": "stream",
     "text": [
      " * sqlite:///lab4.db3\n",
      "Done.\n"
     ]
    },
    {
     "data": {
      "text/html": [
       "<table>\n",
       "    <thead>\n",
       "        <tr>\n",
       "            <th>A</th>\n",
       "            <th>B</th>\n",
       "            <th>C</th>\n",
       "            <th>D</th>\n",
       "        </tr>\n",
       "    </thead>\n",
       "    <tbody>\n",
       "        <tr>\n",
       "            <td>Jazz</td>\n",
       "            <td>music</td>\n",
       "            <td>1</td>\n",
       "            <td>96</td>\n",
       "        </tr>\n",
       "        <tr>\n",
       "            <td>Jazz</td>\n",
       "            <td>music</td>\n",
       "            <td>1</td>\n",
       "            <td>96</td>\n",
       "        </tr>\n",
       "        <tr>\n",
       "            <td>Water</td>\n",
       "            <td>nature</td>\n",
       "            <td>2</td>\n",
       "            <td>3</td>\n",
       "        </tr>\n",
       "        <tr>\n",
       "            <td>Water</td>\n",
       "            <td>nature</td>\n",
       "            <td>2</td>\n",
       "            <td>3</td>\n",
       "        </tr>\n",
       "        <tr>\n",
       "            <td>jotaro</td>\n",
       "            <td>jojo</td>\n",
       "            <td>3</td>\n",
       "            <td>40</td>\n",
       "        </tr>\n",
       "    </tbody>\n",
       "</table>"
      ],
      "text/plain": [
       "[('Jazz', 'music', '1', '96'),\n",
       " ('Jazz', 'music', '1', '96'),\n",
       " ('Water', 'nature', '2', '3'),\n",
       " ('Water', 'nature', '2', '3'),\n",
       " ('jotaro', 'jojo', '3', '40')]"
      ]
     },
     "execution_count": 14,
     "metadata": {},
     "output_type": "execute_result"
    }
   ],
   "source": [
    "%%sql\n",
    "select * from T2q2"
   ]
  },
  {
   "cell_type": "code",
   "execution_count": 15,
   "id": "be7f6215",
   "metadata": {},
   "outputs": [
    {
     "name": "stdout",
     "output_type": "stream",
     "text": [
      " * sqlite:///lab4.db3\n",
      "Done.\n"
     ]
    },
    {
     "data": {
      "text/html": [
       "<table>\n",
       "    <thead>\n",
       "        <tr>\n",
       "            <th>A</th>\n",
       "            <th>B</th>\n",
       "            <th>C</th>\n",
       "            <th>D</th>\n",
       "        </tr>\n",
       "    </thead>\n",
       "    <tbody>\n",
       "        <tr>\n",
       "            <td>Jazz</td>\n",
       "            <td>music</td>\n",
       "            <td>1</td>\n",
       "            <td>96</td>\n",
       "        </tr>\n",
       "        <tr>\n",
       "            <td>Jazz</td>\n",
       "            <td>music</td>\n",
       "            <td>1</td>\n",
       "            <td>49</td>\n",
       "        </tr>\n",
       "        <tr>\n",
       "            <td>Water</td>\n",
       "            <td>nature</td>\n",
       "            <td>2</td>\n",
       "            <td>3</td>\n",
       "        </tr>\n",
       "        <tr>\n",
       "            <td>Fire</td>\n",
       "            <td>nature</td>\n",
       "            <td>2</td>\n",
       "            <td>3</td>\n",
       "        </tr>\n",
       "        <tr>\n",
       "            <td>jotaro</td>\n",
       "            <td>jojo</td>\n",
       "            <td>3</td>\n",
       "            <td>40</td>\n",
       "        </tr>\n",
       "    </tbody>\n",
       "</table>"
      ],
      "text/plain": [
       "[('Jazz', 'music', '1', '96'),\n",
       " ('Jazz', 'music', '1', '49'),\n",
       " ('Water', 'nature', '2', '3'),\n",
       " ('Fire', 'nature', '2', '3'),\n",
       " ('jotaro', 'jojo', '3', '40')]"
      ]
     },
     "execution_count": 15,
     "metadata": {},
     "output_type": "execute_result"
    }
   ],
   "source": [
    "%%sql\n",
    "select * from F2q2"
   ]
  },
  {
   "cell_type": "markdown",
   "id": "40d9bdf7",
   "metadata": {},
   "source": [
    "### &#x23f5; *Testing SQL for T2*"
   ]
  },
  {
   "cell_type": "code",
   "execution_count": 16,
   "id": "3933388d",
   "metadata": {},
   "outputs": [
    {
     "name": "stdout",
     "output_type": "stream",
     "text": [
      " * sqlite:///lab4.db3\n",
      "Done.\n"
     ]
    },
    {
     "data": {
      "text/html": [
       "<table>\n",
       "    <thead>\n",
       "        <tr>\n",
       "            <th>A</th>\n",
       "            <th>B</th>\n",
       "            <th>C</th>\n",
       "            <th>D</th>\n",
       "            <th>A_1</th>\n",
       "            <th>B_1</th>\n",
       "            <th>C_1</th>\n",
       "            <th>D_1</th>\n",
       "        </tr>\n",
       "    </thead>\n",
       "    <tbody>\n",
       "    </tbody>\n",
       "</table>"
      ],
      "text/plain": [
       "[]"
      ]
     },
     "execution_count": 16,
     "metadata": {},
     "output_type": "execute_result"
    }
   ],
   "source": [
    "%%sql\n",
    "select * from T2q2 as t1, T2q2 as t2\n",
    "where t1.B = t2.B\n",
    "and t1.C = t2.C\n",
    "group by t1.C\n",
    "having count(distinct(t2.A)) > 1 or count(distinct(t2.D)) > 1"
   ]
  },
  {
   "cell_type": "markdown",
   "id": "0ff583df",
   "metadata": {},
   "source": [
    "### &#x23f5; *Testing SQL for F2*"
   ]
  },
  {
   "cell_type": "code",
   "execution_count": 17,
   "id": "7789c7e7",
   "metadata": {
    "scrolled": true
   },
   "outputs": [
    {
     "name": "stdout",
     "output_type": "stream",
     "text": [
      " * sqlite:///lab4.db3\n",
      "Done.\n"
     ]
    },
    {
     "data": {
      "text/html": [
       "<table>\n",
       "    <thead>\n",
       "        <tr>\n",
       "            <th>A</th>\n",
       "            <th>B</th>\n",
       "            <th>C</th>\n",
       "            <th>D</th>\n",
       "            <th>A_1</th>\n",
       "            <th>B_1</th>\n",
       "            <th>C_1</th>\n",
       "            <th>D_1</th>\n",
       "        </tr>\n",
       "    </thead>\n",
       "    <tbody>\n",
       "        <tr>\n",
       "            <td>Jazz</td>\n",
       "            <td>music</td>\n",
       "            <td>1</td>\n",
       "            <td>96</td>\n",
       "            <td>Jazz</td>\n",
       "            <td>music</td>\n",
       "            <td>1</td>\n",
       "            <td>49</td>\n",
       "        </tr>\n",
       "        <tr>\n",
       "            <td>Water</td>\n",
       "            <td>nature</td>\n",
       "            <td>2</td>\n",
       "            <td>3</td>\n",
       "            <td>Fire</td>\n",
       "            <td>nature</td>\n",
       "            <td>2</td>\n",
       "            <td>3</td>\n",
       "        </tr>\n",
       "    </tbody>\n",
       "</table>"
      ],
      "text/plain": [
       "[('Jazz', 'music', '1', '96', 'Jazz', 'music', '1', '49'),\n",
       " ('Water', 'nature', '2', '3', 'Fire', 'nature', '2', '3')]"
      ]
     },
     "execution_count": 17,
     "metadata": {},
     "output_type": "execute_result"
    }
   ],
   "source": [
    "%%sql\n",
    "select * from F2q2 as f1, F2q2 as f2\n",
    "where f1.B = f2.B\n",
    "and f1.C = f2.C\n",
    "group by f1.C\n",
    "having count(distinct(f2.A)) > 1 or count(distinct(f2.D)) > 1"
   ]
  },
  {
   "cell_type": "markdown",
   "id": "7d50ba70",
   "metadata": {},
   "source": [
    "----"
   ]
  },
  {
   "cell_type": "markdown",
   "id": "6c2e3e1a",
   "metadata": {},
   "source": [
    "## Q3: Tuple-Generating Dependency (TGD) \n",
    "**step 1. create Sailors and Reserves tables** <br>\n",
    "**step 2. check existence when the shared attributes in relation A equal the same attributes in relation B**"
   ]
  },
  {
   "cell_type": "markdown",
   "id": "e6ec53a9",
   "metadata": {},
   "source": [
    "### *&#x23f5; create tables Saliors and Reserves that satisfy the conditions*"
   ]
  },
  {
   "cell_type": "code",
   "execution_count": 18,
   "id": "b4cd6dd7",
   "metadata": {
    "scrolled": false
   },
   "outputs": [
    {
     "name": "stdout",
     "output_type": "stream",
     "text": [
      " * sqlite:///lab4.db3\n",
      "Done.\n",
      "Done.\n",
      "1 rows affected.\n",
      "1 rows affected.\n",
      "1 rows affected.\n",
      "1 rows affected.\n",
      "1 rows affected.\n",
      "1 rows affected.\n",
      "Done.\n",
      "Done.\n",
      "1 rows affected.\n",
      "1 rows affected.\n",
      "1 rows affected.\n",
      "1 rows affected.\n",
      "1 rows affected.\n",
      "1 rows affected.\n",
      "1 rows affected.\n",
      "1 rows affected.\n",
      "1 rows affected.\n",
      "1 rows affected.\n",
      "1 rows affected.\n",
      "1 rows affected.\n"
     ]
    },
    {
     "data": {
      "text/plain": [
       "[]"
      ]
     },
     "execution_count": 18,
     "metadata": {},
     "output_type": "execute_result"
    }
   ],
   "source": [
    "%%sql \n",
    "drop table if exists Sailors;\n",
    "create table Sailors(sid int primary key,sname varchar(20),rating varchar(5),age int);\n",
    "\n",
    "insert into Sailors values(1,'david','4',22);\n",
    "insert into Sailors values(2,'jojo','5',26);\n",
    "insert into Sailors values(3,'jason','3',31);\n",
    "insert into Sailors values(4,'kelly','5',27);\n",
    "insert into Sailors values(5,'arno','2',36);\n",
    "insert into Sailors values(6,'lisa','1',23);\n",
    "\n",
    "drop table if exists Reserves;\n",
    "create table Reserves(sid int,bid int,day date,primary key(sid,bid,day));\n",
    "insert into Reserves values(1,101,'03-20-2022');\n",
    "insert into Reserves values(1,106,'04-26-2022');\n",
    "insert into Reserves values(2,110,'05-02-2022');\n",
    "insert into Reserves values(3,103,'03-26-2022');\n",
    "insert into Reserves values(4,112,'04-10-2022');\n",
    "insert into Reserves values(2,111,'04-17-2022');\n",
    "insert into Reserves values(2,111,'04-08-2022');\n",
    "insert into Reserves values(5,107,'04-25-2022');\n",
    "insert into Reserves values(6,111,'03-28-2022');\n",
    "insert into Reserves values(4,101,'04-12-2022');\n",
    "insert into Reserves values(3,112,'04-05-2022');\n",
    "insert into Reserves values(5,111,'03-23-2022');"
   ]
  },
  {
   "cell_type": "markdown",
   "id": "9ff80fb1",
   "metadata": {},
   "source": [
    "### *&#x23f5; create tables Saliors and Reserves that does not satisfy conditions*"
   ]
  },
  {
   "cell_type": "code",
   "execution_count": 19,
   "id": "5455c80f",
   "metadata": {},
   "outputs": [
    {
     "name": "stdout",
     "output_type": "stream",
     "text": [
      " * sqlite:///lab4.db3\n",
      "Done.\n",
      "Done.\n",
      "1 rows affected.\n",
      "1 rows affected.\n",
      "1 rows affected.\n",
      "1 rows affected.\n",
      "1 rows affected.\n",
      "1 rows affected.\n",
      "Done.\n",
      "Done.\n",
      "1 rows affected.\n",
      "1 rows affected.\n",
      "1 rows affected.\n",
      "1 rows affected.\n",
      "1 rows affected.\n",
      "1 rows affected.\n"
     ]
    },
    {
     "data": {
      "text/plain": [
       "[]"
      ]
     },
     "execution_count": 19,
     "metadata": {},
     "output_type": "execute_result"
    }
   ],
   "source": [
    "%%sql \n",
    "drop table if exists Sailors2;\n",
    "create table Sailors2(sid int primary key,sname varchar(20),rating varchar(5),age int);\n",
    "\n",
    "insert into Sailors2 values(1,'david','4',22);\n",
    "insert into Sailors2 values(2,'jojo','5',26);\n",
    "insert into Sailors2 values(3,'jason','3',31);\n",
    "insert into Sailors2 values(4,'kelly','5',27);\n",
    "insert into Sailors2 values(5,'arno','2',36);\n",
    "insert into Sailors2 values(6,'lisa','1',23);\n",
    "\n",
    "drop table if exists Reserves2;\n",
    "create table Reserves2(sid int,bid int,day date,primary key(sid,bid,day));\n",
    "insert into Reserves2 values(1,101,'03-20-2022');\n",
    "insert into Reserves2 values(1,106,'04-26-2022');\n",
    "insert into Reserves2 values(2,110,'05-02-2022');\n",
    "insert into Reserves2 values(3,103,'03-26-2022');\n",
    "insert into Reserves2 values(4,112,'04-10-2022');\n",
    "insert into Reserves2 values(7,111,'04-17-2022');"
   ]
  },
  {
   "cell_type": "markdown",
   "id": "0994e36e",
   "metadata": {},
   "source": [
    "### *&#x23f5; Display tables*"
   ]
  },
  {
   "cell_type": "code",
   "execution_count": 20,
   "id": "2f03d0b2",
   "metadata": {},
   "outputs": [
    {
     "name": "stdout",
     "output_type": "stream",
     "text": [
      " * sqlite:///lab4.db3\n",
      "Done.\n"
     ]
    },
    {
     "data": {
      "text/html": [
       "<table>\n",
       "    <thead>\n",
       "        <tr>\n",
       "            <th>sid</th>\n",
       "            <th>sname</th>\n",
       "            <th>rating</th>\n",
       "            <th>age</th>\n",
       "        </tr>\n",
       "    </thead>\n",
       "    <tbody>\n",
       "        <tr>\n",
       "            <td>1</td>\n",
       "            <td>david</td>\n",
       "            <td>4</td>\n",
       "            <td>22</td>\n",
       "        </tr>\n",
       "        <tr>\n",
       "            <td>2</td>\n",
       "            <td>jojo</td>\n",
       "            <td>5</td>\n",
       "            <td>26</td>\n",
       "        </tr>\n",
       "        <tr>\n",
       "            <td>3</td>\n",
       "            <td>jason</td>\n",
       "            <td>3</td>\n",
       "            <td>31</td>\n",
       "        </tr>\n",
       "        <tr>\n",
       "            <td>4</td>\n",
       "            <td>kelly</td>\n",
       "            <td>5</td>\n",
       "            <td>27</td>\n",
       "        </tr>\n",
       "        <tr>\n",
       "            <td>5</td>\n",
       "            <td>arno</td>\n",
       "            <td>2</td>\n",
       "            <td>36</td>\n",
       "        </tr>\n",
       "        <tr>\n",
       "            <td>6</td>\n",
       "            <td>lisa</td>\n",
       "            <td>1</td>\n",
       "            <td>23</td>\n",
       "        </tr>\n",
       "    </tbody>\n",
       "</table>"
      ],
      "text/plain": [
       "[(1, 'david', '4', 22),\n",
       " (2, 'jojo', '5', 26),\n",
       " (3, 'jason', '3', 31),\n",
       " (4, 'kelly', '5', 27),\n",
       " (5, 'arno', '2', 36),\n",
       " (6, 'lisa', '1', 23)]"
      ]
     },
     "execution_count": 20,
     "metadata": {},
     "output_type": "execute_result"
    }
   ],
   "source": [
    "%%sql\n",
    "select * from sailors"
   ]
  },
  {
   "cell_type": "code",
   "execution_count": 21,
   "id": "00391aad",
   "metadata": {},
   "outputs": [
    {
     "name": "stdout",
     "output_type": "stream",
     "text": [
      " * sqlite:///lab4.db3\n",
      "Done.\n"
     ]
    },
    {
     "data": {
      "text/html": [
       "<table>\n",
       "    <thead>\n",
       "        <tr>\n",
       "            <th>sid</th>\n",
       "            <th>bid</th>\n",
       "            <th>day</th>\n",
       "        </tr>\n",
       "    </thead>\n",
       "    <tbody>\n",
       "        <tr>\n",
       "            <td>1</td>\n",
       "            <td>101</td>\n",
       "            <td>03-20-2022</td>\n",
       "        </tr>\n",
       "        <tr>\n",
       "            <td>1</td>\n",
       "            <td>106</td>\n",
       "            <td>04-26-2022</td>\n",
       "        </tr>\n",
       "        <tr>\n",
       "            <td>2</td>\n",
       "            <td>110</td>\n",
       "            <td>05-02-2022</td>\n",
       "        </tr>\n",
       "        <tr>\n",
       "            <td>3</td>\n",
       "            <td>103</td>\n",
       "            <td>03-26-2022</td>\n",
       "        </tr>\n",
       "        <tr>\n",
       "            <td>4</td>\n",
       "            <td>112</td>\n",
       "            <td>04-10-2022</td>\n",
       "        </tr>\n",
       "        <tr>\n",
       "            <td>2</td>\n",
       "            <td>111</td>\n",
       "            <td>04-17-2022</td>\n",
       "        </tr>\n",
       "        <tr>\n",
       "            <td>2</td>\n",
       "            <td>111</td>\n",
       "            <td>04-08-2022</td>\n",
       "        </tr>\n",
       "        <tr>\n",
       "            <td>5</td>\n",
       "            <td>107</td>\n",
       "            <td>04-25-2022</td>\n",
       "        </tr>\n",
       "        <tr>\n",
       "            <td>6</td>\n",
       "            <td>111</td>\n",
       "            <td>03-28-2022</td>\n",
       "        </tr>\n",
       "        <tr>\n",
       "            <td>4</td>\n",
       "            <td>101</td>\n",
       "            <td>04-12-2022</td>\n",
       "        </tr>\n",
       "        <tr>\n",
       "            <td>3</td>\n",
       "            <td>112</td>\n",
       "            <td>04-05-2022</td>\n",
       "        </tr>\n",
       "        <tr>\n",
       "            <td>5</td>\n",
       "            <td>111</td>\n",
       "            <td>03-23-2022</td>\n",
       "        </tr>\n",
       "    </tbody>\n",
       "</table>"
      ],
      "text/plain": [
       "[(1, 101, '03-20-2022'),\n",
       " (1, 106, '04-26-2022'),\n",
       " (2, 110, '05-02-2022'),\n",
       " (3, 103, '03-26-2022'),\n",
       " (4, 112, '04-10-2022'),\n",
       " (2, 111, '04-17-2022'),\n",
       " (2, 111, '04-08-2022'),\n",
       " (5, 107, '04-25-2022'),\n",
       " (6, 111, '03-28-2022'),\n",
       " (4, 101, '04-12-2022'),\n",
       " (3, 112, '04-05-2022'),\n",
       " (5, 111, '03-23-2022')]"
      ]
     },
     "execution_count": 21,
     "metadata": {},
     "output_type": "execute_result"
    }
   ],
   "source": [
    "%%sql\n",
    "select * from reserves"
   ]
  },
  {
   "cell_type": "code",
   "execution_count": 22,
   "id": "a484a7a9",
   "metadata": {},
   "outputs": [
    {
     "name": "stdout",
     "output_type": "stream",
     "text": [
      " * sqlite:///lab4.db3\n",
      "Done.\n"
     ]
    },
    {
     "data": {
      "text/html": [
       "<table>\n",
       "    <thead>\n",
       "        <tr>\n",
       "            <th>sid</th>\n",
       "            <th>bid</th>\n",
       "            <th>day</th>\n",
       "        </tr>\n",
       "    </thead>\n",
       "    <tbody>\n",
       "        <tr>\n",
       "            <td>1</td>\n",
       "            <td>101</td>\n",
       "            <td>03-20-2022</td>\n",
       "        </tr>\n",
       "        <tr>\n",
       "            <td>1</td>\n",
       "            <td>106</td>\n",
       "            <td>04-26-2022</td>\n",
       "        </tr>\n",
       "        <tr>\n",
       "            <td>2</td>\n",
       "            <td>110</td>\n",
       "            <td>05-02-2022</td>\n",
       "        </tr>\n",
       "        <tr>\n",
       "            <td>3</td>\n",
       "            <td>103</td>\n",
       "            <td>03-26-2022</td>\n",
       "        </tr>\n",
       "        <tr>\n",
       "            <td>4</td>\n",
       "            <td>112</td>\n",
       "            <td>04-10-2022</td>\n",
       "        </tr>\n",
       "        <tr>\n",
       "            <td>7</td>\n",
       "            <td>111</td>\n",
       "            <td>04-17-2022</td>\n",
       "        </tr>\n",
       "    </tbody>\n",
       "</table>"
      ],
      "text/plain": [
       "[(1, 101, '03-20-2022'),\n",
       " (1, 106, '04-26-2022'),\n",
       " (2, 110, '05-02-2022'),\n",
       " (3, 103, '03-26-2022'),\n",
       " (4, 112, '04-10-2022'),\n",
       " (7, 111, '04-17-2022')]"
      ]
     },
     "execution_count": 22,
     "metadata": {},
     "output_type": "execute_result"
    }
   ],
   "source": [
    "%%sql\n",
    "select * from reserves2"
   ]
  },
  {
   "cell_type": "markdown",
   "id": "4719fe42",
   "metadata": {},
   "source": [
    "### &#x23f5; *Testing for Tables that satisfy conditions*"
   ]
  },
  {
   "cell_type": "code",
   "execution_count": 23,
   "id": "f1b507a4",
   "metadata": {},
   "outputs": [
    {
     "name": "stdout",
     "output_type": "stream",
     "text": [
      " * sqlite:///lab4.db3\n",
      "Done.\n"
     ]
    },
    {
     "data": {
      "text/html": [
       "<table>\n",
       "    <thead>\n",
       "        <tr>\n",
       "            <th>sid</th>\n",
       "        </tr>\n",
       "    </thead>\n",
       "    <tbody>\n",
       "    </tbody>\n",
       "</table>"
      ],
      "text/plain": [
       "[]"
      ]
     },
     "execution_count": 23,
     "metadata": {},
     "output_type": "execute_result"
    }
   ],
   "source": [
    "%%sql \n",
    "select s.sid \n",
    "from sailors as s\n",
    "where not exists(\n",
    "    select r.sid from reserves as r \n",
    "    where s.sid = r.sid)"
   ]
  },
  {
   "cell_type": "markdown",
   "id": "55bfb8da",
   "metadata": {},
   "source": [
    "### &#x23f5; *Testing for Tables that does not satisfy conditions*"
   ]
  },
  {
   "cell_type": "code",
   "execution_count": 24,
   "id": "32e25709",
   "metadata": {},
   "outputs": [
    {
     "name": "stdout",
     "output_type": "stream",
     "text": [
      " * sqlite:///lab4.db3\n",
      "Done.\n"
     ]
    },
    {
     "data": {
      "text/html": [
       "<table>\n",
       "    <thead>\n",
       "        <tr>\n",
       "            <th>sid</th>\n",
       "        </tr>\n",
       "    </thead>\n",
       "    <tbody>\n",
       "        <tr>\n",
       "            <td>5</td>\n",
       "        </tr>\n",
       "        <tr>\n",
       "            <td>6</td>\n",
       "        </tr>\n",
       "    </tbody>\n",
       "</table>"
      ],
      "text/plain": [
       "[(5,), (6,)]"
      ]
     },
     "execution_count": 24,
     "metadata": {},
     "output_type": "execute_result"
    }
   ],
   "source": [
    "%%sql \n",
    "select s.sid \n",
    "from sailors2 as s\n",
    "where not exists(\n",
    "    select r.sid from reserves2 as r \n",
    "    where s.sid = r.sid)"
   ]
  },
  {
   "cell_type": "markdown",
   "id": "b6fce680",
   "metadata": {},
   "source": [
    "----"
   ]
  },
  {
   "cell_type": "markdown",
   "id": "15d95c44",
   "metadata": {},
   "source": [
    "## Q4: Multivalued Dependency (MVD)\n",
    "**step 1. create three tables R, X and Y where X &#x2286; R and Y &#x2286; R, but X ≠ Y** <br>\n",
    "**step 2. write SQL that according to the definition of MVD** <br>\n",
    "*• t<sub>3</sub>[X] = t<sub>1</sub>[X] =  t<sub>2</sub>[X]* <br>\n",
    "*• t<sub>3</sub>[Y] = t<sub>1</sub>[Y]* <br>\n",
    "*• t<sub>3</sub>[R \\ Y] = t<sub>2</sub>[R \\ Y]* <br>\n",
    "**Simplify: R = {A, B, C, D, E}, X = {A, B, C}, Y = {C, D, E}**"
   ]
  },
  {
   "cell_type": "code",
   "execution_count": 25,
   "id": "f436525d",
   "metadata": {},
   "outputs": [
    {
     "name": "stdout",
     "output_type": "stream",
     "text": [
      " * sqlite:///lab4.db3\n",
      "Done.\n",
      "Done.\n",
      "5 rows affected.\n",
      "Done.\n",
      "Done.\n",
      "5 rows affected.\n",
      "Done.\n",
      "Done.\n",
      "5 rows affected.\n",
      "Done.\n",
      "Done.\n",
      "5 rows affected.\n"
     ]
    },
    {
     "data": {
      "text/plain": [
       "[]"
      ]
     },
     "execution_count": 25,
     "metadata": {},
     "output_type": "execute_result"
    }
   ],
   "source": [
    "%%sql\n",
    "drop table if exists T1;\n",
    "create table T1 (\n",
    "A INT NOT NULL,\n",
    "B varchar (50) NOT NULL,\n",
    "C varchar (50) NOT NULL,\n",
    "D varchar (50) NOT NULL,\n",
    "E varchar (50) NOT NULL\n",
    " );\n",
    "\n",
    "insert into T1\n",
    "(A, B, C, D, E) values\n",
    "(1, 'jojo1', 'Jonathan', 'Hamon', 'Young Dio'),\n",
    "(2, 'jojo2', 'Joseph', 'Hermit Purple', 'Kazi'),\n",
    "(3, 'jojo3', 'Jotaro', 'Star Platinum', 'Old Dio'),\n",
    "(4, 'jojo4', 'Josuke', 'Crazy Diamond', 'Kira Yoshikage'),\n",
    "(5, 'jojo5', 'Jolyne', 'Stone Free', 'Pucci')\n",
    ";\n",
    "\n",
    "drop table if exists T2;\n",
    "create table T2 (\n",
    "A INT NOT NULL,\n",
    "B varchar (50) NOT NULL,\n",
    "C varchar (50) NOT NULL\n",
    " );\n",
    "\n",
    "insert into T2\n",
    "(A, B, C) values\n",
    "(1, 'jojo1', 'Jonathan'),\n",
    "(2, 'jojo2', 'Joseph'),\n",
    "(3, 'jojo3', 'Jotaro'),\n",
    "(4, 'jojo4', 'Josuke'),\n",
    "(5, 'jojo5', 'Jolyne')\n",
    ";\n",
    "\n",
    "drop table if exists T3;\n",
    "create table T3 (\n",
    "C varchar (50) NOT NULL,\n",
    "D varchar (50) NOT NULL,\n",
    "E varchar (50) NOT NULL\n",
    " );\n",
    "\n",
    "insert into T3\n",
    "(C, D, E) values\n",
    "('J', 'Hamon', 'Young Dio'),\n",
    "('Joseph', 'Hermit Purple', 'Kazi'),\n",
    "('Jotaro', 'Star Platinum', 'Old Dio'),\n",
    "('Josuke', 'Crazy Diamond', 'Kira Yoshikage'),\n",
    "('Jolyne', 'Stone Free', 'Pucci')\n",
    ";\n",
    "\n",
    "drop table if exists T4;\n",
    "create table T4 (\n",
    "A varchar (50) NOT NULL,\n",
    "C varchar (50) NOT NULL,\n",
    "D varchar (50) NOT NULL\n",
    " );\n",
    "\n",
    "insert into T4\n",
    "(A, C, D) values\n",
    "(1, 'Jonathan', 'Hamon'),\n",
    "(2, 'Joseph', 'Hermit Purple'),\n",
    "(3, 'Jotaro', 'Star Platinum'),\n",
    "(4, 'Josuke', 'Crazy Diamond'),\n",
    "(5, 'Jolyne', 'Stone Free')\n",
    ";"
   ]
  },
  {
   "cell_type": "markdown",
   "id": "05be12ee",
   "metadata": {},
   "source": [
    "### *&#x23f5; Display tables*"
   ]
  },
  {
   "cell_type": "code",
   "execution_count": 26,
   "id": "48ec306f",
   "metadata": {
    "scrolled": true
   },
   "outputs": [
    {
     "name": "stdout",
     "output_type": "stream",
     "text": [
      " * sqlite:///lab4.db3\n",
      "Done.\n"
     ]
    },
    {
     "data": {
      "text/html": [
       "<table>\n",
       "    <thead>\n",
       "        <tr>\n",
       "            <th>A</th>\n",
       "            <th>B</th>\n",
       "            <th>C</th>\n",
       "            <th>D</th>\n",
       "            <th>E</th>\n",
       "        </tr>\n",
       "    </thead>\n",
       "    <tbody>\n",
       "        <tr>\n",
       "            <td>1</td>\n",
       "            <td>jojo1</td>\n",
       "            <td>Jonathan</td>\n",
       "            <td>Hamon</td>\n",
       "            <td>Young Dio</td>\n",
       "        </tr>\n",
       "        <tr>\n",
       "            <td>2</td>\n",
       "            <td>jojo2</td>\n",
       "            <td>Joseph</td>\n",
       "            <td>Hermit Purple</td>\n",
       "            <td>Kazi</td>\n",
       "        </tr>\n",
       "        <tr>\n",
       "            <td>3</td>\n",
       "            <td>jojo3</td>\n",
       "            <td>Jotaro</td>\n",
       "            <td>Star Platinum</td>\n",
       "            <td>Old Dio</td>\n",
       "        </tr>\n",
       "        <tr>\n",
       "            <td>4</td>\n",
       "            <td>jojo4</td>\n",
       "            <td>Josuke</td>\n",
       "            <td>Crazy Diamond</td>\n",
       "            <td>Kira Yoshikage</td>\n",
       "        </tr>\n",
       "        <tr>\n",
       "            <td>5</td>\n",
       "            <td>jojo5</td>\n",
       "            <td>Jolyne</td>\n",
       "            <td>Stone Free</td>\n",
       "            <td>Pucci</td>\n",
       "        </tr>\n",
       "    </tbody>\n",
       "</table>"
      ],
      "text/plain": [
       "[(1, 'jojo1', 'Jonathan', 'Hamon', 'Young Dio'),\n",
       " (2, 'jojo2', 'Joseph', 'Hermit Purple', 'Kazi'),\n",
       " (3, 'jojo3', 'Jotaro', 'Star Platinum', 'Old Dio'),\n",
       " (4, 'jojo4', 'Josuke', 'Crazy Diamond', 'Kira Yoshikage'),\n",
       " (5, 'jojo5', 'Jolyne', 'Stone Free', 'Pucci')]"
      ]
     },
     "execution_count": 26,
     "metadata": {},
     "output_type": "execute_result"
    }
   ],
   "source": [
    "%%sql\n",
    "select * from t1"
   ]
  },
  {
   "cell_type": "code",
   "execution_count": 27,
   "id": "434781da",
   "metadata": {},
   "outputs": [
    {
     "name": "stdout",
     "output_type": "stream",
     "text": [
      " * sqlite:///lab4.db3\n",
      "Done.\n"
     ]
    },
    {
     "data": {
      "text/html": [
       "<table>\n",
       "    <thead>\n",
       "        <tr>\n",
       "            <th>A</th>\n",
       "            <th>B</th>\n",
       "            <th>C</th>\n",
       "        </tr>\n",
       "    </thead>\n",
       "    <tbody>\n",
       "        <tr>\n",
       "            <td>1</td>\n",
       "            <td>jojo1</td>\n",
       "            <td>Jonathan</td>\n",
       "        </tr>\n",
       "        <tr>\n",
       "            <td>2</td>\n",
       "            <td>jojo2</td>\n",
       "            <td>Joseph</td>\n",
       "        </tr>\n",
       "        <tr>\n",
       "            <td>3</td>\n",
       "            <td>jojo3</td>\n",
       "            <td>Jotaro</td>\n",
       "        </tr>\n",
       "        <tr>\n",
       "            <td>4</td>\n",
       "            <td>jojo4</td>\n",
       "            <td>Josuke</td>\n",
       "        </tr>\n",
       "        <tr>\n",
       "            <td>5</td>\n",
       "            <td>jojo5</td>\n",
       "            <td>Jolyne</td>\n",
       "        </tr>\n",
       "    </tbody>\n",
       "</table>"
      ],
      "text/plain": [
       "[(1, 'jojo1', 'Jonathan'),\n",
       " (2, 'jojo2', 'Joseph'),\n",
       " (3, 'jojo3', 'Jotaro'),\n",
       " (4, 'jojo4', 'Josuke'),\n",
       " (5, 'jojo5', 'Jolyne')]"
      ]
     },
     "execution_count": 27,
     "metadata": {},
     "output_type": "execute_result"
    }
   ],
   "source": [
    "%%sql\n",
    "select * from t2"
   ]
  },
  {
   "cell_type": "code",
   "execution_count": 28,
   "id": "0a27dff1",
   "metadata": {
    "scrolled": true
   },
   "outputs": [
    {
     "name": "stdout",
     "output_type": "stream",
     "text": [
      " * sqlite:///lab4.db3\n",
      "Done.\n"
     ]
    },
    {
     "data": {
      "text/html": [
       "<table>\n",
       "    <thead>\n",
       "        <tr>\n",
       "            <th>C</th>\n",
       "            <th>D</th>\n",
       "            <th>E</th>\n",
       "        </tr>\n",
       "    </thead>\n",
       "    <tbody>\n",
       "        <tr>\n",
       "            <td>J</td>\n",
       "            <td>Hamon</td>\n",
       "            <td>Young Dio</td>\n",
       "        </tr>\n",
       "        <tr>\n",
       "            <td>Joseph</td>\n",
       "            <td>Hermit Purple</td>\n",
       "            <td>Kazi</td>\n",
       "        </tr>\n",
       "        <tr>\n",
       "            <td>Jotaro</td>\n",
       "            <td>Star Platinum</td>\n",
       "            <td>Old Dio</td>\n",
       "        </tr>\n",
       "        <tr>\n",
       "            <td>Josuke</td>\n",
       "            <td>Crazy Diamond</td>\n",
       "            <td>Kira Yoshikage</td>\n",
       "        </tr>\n",
       "        <tr>\n",
       "            <td>Jolyne</td>\n",
       "            <td>Stone Free</td>\n",
       "            <td>Pucci</td>\n",
       "        </tr>\n",
       "    </tbody>\n",
       "</table>"
      ],
      "text/plain": [
       "[('J', 'Hamon', 'Young Dio'),\n",
       " ('Joseph', 'Hermit Purple', 'Kazi'),\n",
       " ('Jotaro', 'Star Platinum', 'Old Dio'),\n",
       " ('Josuke', 'Crazy Diamond', 'Kira Yoshikage'),\n",
       " ('Jolyne', 'Stone Free', 'Pucci')]"
      ]
     },
     "execution_count": 28,
     "metadata": {},
     "output_type": "execute_result"
    }
   ],
   "source": [
    "%%sql\n",
    "select * from t3"
   ]
  },
  {
   "cell_type": "code",
   "execution_count": 29,
   "id": "3d9c8bc6",
   "metadata": {},
   "outputs": [
    {
     "name": "stdout",
     "output_type": "stream",
     "text": [
      " * sqlite:///lab4.db3\n",
      "Done.\n"
     ]
    },
    {
     "data": {
      "text/html": [
       "<table>\n",
       "    <thead>\n",
       "        <tr>\n",
       "            <th>A</th>\n",
       "            <th>C</th>\n",
       "            <th>D</th>\n",
       "        </tr>\n",
       "    </thead>\n",
       "    <tbody>\n",
       "        <tr>\n",
       "            <td>1</td>\n",
       "            <td>Jonathan</td>\n",
       "            <td>Hamon</td>\n",
       "        </tr>\n",
       "        <tr>\n",
       "            <td>2</td>\n",
       "            <td>Joseph</td>\n",
       "            <td>Hermit Purple</td>\n",
       "        </tr>\n",
       "        <tr>\n",
       "            <td>3</td>\n",
       "            <td>Jotaro</td>\n",
       "            <td>Star Platinum</td>\n",
       "        </tr>\n",
       "        <tr>\n",
       "            <td>4</td>\n",
       "            <td>Josuke</td>\n",
       "            <td>Crazy Diamond</td>\n",
       "        </tr>\n",
       "        <tr>\n",
       "            <td>5</td>\n",
       "            <td>Jolyne</td>\n",
       "            <td>Stone Free</td>\n",
       "        </tr>\n",
       "    </tbody>\n",
       "</table>"
      ],
      "text/plain": [
       "[('1', 'Jonathan', 'Hamon'),\n",
       " ('2', 'Joseph', 'Hermit Purple'),\n",
       " ('3', 'Jotaro', 'Star Platinum'),\n",
       " ('4', 'Josuke', 'Crazy Diamond'),\n",
       " ('5', 'Jolyne', 'Stone Free')]"
      ]
     },
     "execution_count": 29,
     "metadata": {},
     "output_type": "execute_result"
    }
   ],
   "source": [
    "%%sql\n",
    "select * from t4"
   ]
  },
  {
   "cell_type": "markdown",
   "id": "2e8b0321",
   "metadata": {},
   "source": [
    "### &#x23f5; *Testing for Tables T4 that satisfy conditions*"
   ]
  },
  {
   "cell_type": "code",
   "execution_count": 30,
   "id": "667fdcb3",
   "metadata": {},
   "outputs": [
    {
     "name": "stdout",
     "output_type": "stream",
     "text": [
      " * sqlite:///lab4.db3\n",
      "Done.\n"
     ]
    },
    {
     "data": {
      "text/html": [
       "<table>\n",
       "    <thead>\n",
       "        <tr>\n",
       "            <th>A</th>\n",
       "            <th>B</th>\n",
       "            <th>C</th>\n",
       "            <th>D</th>\n",
       "            <th>E</th>\n",
       "            <th>A_1</th>\n",
       "            <th>B_1</th>\n",
       "            <th>C_1</th>\n",
       "        </tr>\n",
       "    </thead>\n",
       "    <tbody>\n",
       "    </tbody>\n",
       "</table>"
      ],
      "text/plain": [
       "[]"
      ]
     },
     "execution_count": 30,
     "metadata": {},
     "output_type": "execute_result"
    }
   ],
   "source": [
    "%%sql\n",
    "select * \n",
    "from t1, t2\n",
    "where t1.A = t2.A\n",
    "and not exists (select * from t4\n",
    "               where t1.A = t4.A\n",
    "               and t1.C = t4.C\n",
    "               and t1.D = t4.D)"
   ]
  },
  {
   "cell_type": "markdown",
   "id": "66d346a4",
   "metadata": {},
   "source": [
    "### &#x23f5; *Testing for Tables T3 that doesn't satisfy conditions*"
   ]
  },
  {
   "cell_type": "code",
   "execution_count": 31,
   "id": "279712a1",
   "metadata": {},
   "outputs": [
    {
     "name": "stdout",
     "output_type": "stream",
     "text": [
      " * sqlite:///lab4.db3\n",
      "Done.\n"
     ]
    },
    {
     "data": {
      "text/html": [
       "<table>\n",
       "    <thead>\n",
       "        <tr>\n",
       "            <th>A</th>\n",
       "            <th>B</th>\n",
       "            <th>C</th>\n",
       "            <th>D</th>\n",
       "            <th>E</th>\n",
       "            <th>A_1</th>\n",
       "            <th>B_1</th>\n",
       "            <th>C_1</th>\n",
       "        </tr>\n",
       "    </thead>\n",
       "    <tbody>\n",
       "        <tr>\n",
       "            <td>1</td>\n",
       "            <td>jojo1</td>\n",
       "            <td>Jonathan</td>\n",
       "            <td>Hamon</td>\n",
       "            <td>Young Dio</td>\n",
       "            <td>1</td>\n",
       "            <td>jojo1</td>\n",
       "            <td>Jonathan</td>\n",
       "        </tr>\n",
       "    </tbody>\n",
       "</table>"
      ],
      "text/plain": [
       "[(1, 'jojo1', 'Jonathan', 'Hamon', 'Young Dio', 1, 'jojo1', 'Jonathan')]"
      ]
     },
     "execution_count": 31,
     "metadata": {},
     "output_type": "execute_result"
    }
   ],
   "source": [
    "%%sql\n",
    "select * \n",
    "from t1, t2\n",
    "where t1.C = t2.C\n",
    "and not exists (select * from t3\n",
    "               where t1.C = t3.C\n",
    "               and t1.E = t3.E\n",
    "               and t1.D = t3.D)"
   ]
  }
 ],
 "metadata": {
  "kernelspec": {
   "display_name": "Python 3.10 (tensorflow)",
   "language": "python",
   "name": "tensorflow"
  },
  "language_info": {
   "codemirror_mode": {
    "name": "ipython",
    "version": 3
   },
   "file_extension": ".py",
   "mimetype": "text/x-python",
   "name": "python",
   "nbconvert_exporter": "python",
   "pygments_lexer": "ipython3",
   "version": "3.9.13"
  }
 },
 "nbformat": 4,
 "nbformat_minor": 5
}
