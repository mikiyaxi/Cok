{
 "cells": [
  {
   "cell_type": "markdown",
   "id": "acc1ccee",
   "metadata": {},
   "source": [
    "## Students: Yuying Zhou, Xirong Cao"
   ]
  },
  {
   "cell_type": "code",
   "execution_count": 1,
   "id": "86dcf8fa",
   "metadata": {},
   "outputs": [],
   "source": [
    "%load_ext sql"
   ]
  },
  {
   "cell_type": "markdown",
   "id": "2f42981d",
   "metadata": {},
   "source": [
    "### connect to database lab3.db"
   ]
  },
  {
   "cell_type": "code",
   "execution_count": 2,
   "id": "1996bd6f",
   "metadata": {},
   "outputs": [
    {
     "data": {
      "text/plain": [
       "'Connected: @lab3.db'"
      ]
     },
     "execution_count": 2,
     "metadata": {},
     "output_type": "execute_result"
    }
   ],
   "source": [
    "%sql sqlite:///lab3.db"
   ]
  },
  {
   "cell_type": "markdown",
   "id": "df48833d",
   "metadata": {},
   "source": [
    "### check tables' existence "
   ]
  },
  {
   "cell_type": "code",
   "execution_count": 3,
   "id": "75fbec3c",
   "metadata": {},
   "outputs": [
    {
     "name": "stdout",
     "output_type": "stream",
     "text": [
      " * sqlite:///lab3.db\n",
      "Done.\n"
     ]
    },
    {
     "data": {
      "text/html": [
       "<table>\n",
       "    <thead>\n",
       "        <tr>\n",
       "            <th>SId</th>\n",
       "            <th>Sname</th>\n",
       "            <th>Sage</th>\n",
       "            <th>Sgender</th>\n",
       "            <th>GPA</th>\n",
       "        </tr>\n",
       "    </thead>\n",
       "    <tbody>\n",
       "        <tr>\n",
       "            <td>01</td>\n",
       "            <td>Peter</td>\n",
       "            <td>1990-01-01</td>\n",
       "            <td>M</td>\n",
       "            <td>3.7</td>\n",
       "        </tr>\n",
       "        <tr>\n",
       "            <td>02</td>\n",
       "            <td>Sam</td>\n",
       "            <td>1990-12-21</td>\n",
       "            <td>M</td>\n",
       "            <td>2.0</td>\n",
       "        </tr>\n",
       "        <tr>\n",
       "            <td>03</td>\n",
       "            <td>Lee</td>\n",
       "            <td>1990-05-20</td>\n",
       "            <td>M</td>\n",
       "            <td>3.0</td>\n",
       "        </tr>\n",
       "        <tr>\n",
       "            <td>04</td>\n",
       "            <td>June</td>\n",
       "            <td>1990-08-06</td>\n",
       "            <td>M</td>\n",
       "            <td>0.0</td>\n",
       "        </tr>\n",
       "        <tr>\n",
       "            <td>05</td>\n",
       "            <td>Eda</td>\n",
       "            <td>1991-12-01</td>\n",
       "            <td>F</td>\n",
       "            <td>3.0</td>\n",
       "        </tr>\n",
       "        <tr>\n",
       "            <td>06</td>\n",
       "            <td>Eloise</td>\n",
       "            <td>1992-03-01</td>\n",
       "            <td>F</td>\n",
       "            <td>0.0</td>\n",
       "        </tr>\n",
       "        <tr>\n",
       "            <td>07</td>\n",
       "            <td>Silas</td>\n",
       "            <td>1989-07-01</td>\n",
       "            <td>F</td>\n",
       "            <td>4.0</td>\n",
       "        </tr>\n",
       "        <tr>\n",
       "            <td>09</td>\n",
       "            <td>Hazel</td>\n",
       "            <td>2001-12-20</td>\n",
       "            <td>F</td>\n",
       "            <td>None</td>\n",
       "        </tr>\n",
       "        <tr>\n",
       "            <td>10</td>\n",
       "            <td>Oscar</td>\n",
       "            <td>2002-12-25</td>\n",
       "            <td>F</td>\n",
       "            <td>None</td>\n",
       "        </tr>\n",
       "        <tr>\n",
       "            <td>11</td>\n",
       "            <td>Oscar</td>\n",
       "            <td>2002-12-30</td>\n",
       "            <td>F</td>\n",
       "            <td>None</td>\n",
       "        </tr>\n",
       "        <tr>\n",
       "            <td>12</td>\n",
       "            <td>Royal</td>\n",
       "            <td>2003-01-01</td>\n",
       "            <td>F</td>\n",
       "            <td>None</td>\n",
       "        </tr>\n",
       "        <tr>\n",
       "            <td>13</td>\n",
       "            <td>Lucy</td>\n",
       "            <td>2002-01-01</td>\n",
       "            <td>F</td>\n",
       "            <td>None</td>\n",
       "        </tr>\n",
       "    </tbody>\n",
       "</table>"
      ],
      "text/plain": [
       "[('01', 'Peter', '1990-01-01', 'M', 3.7),\n",
       " ('02', 'Sam', '1990-12-21', 'M', 2.0),\n",
       " ('03', 'Lee', '1990-05-20', 'M', 3.0),\n",
       " ('04', 'June', '1990-08-06', 'M', 0.0),\n",
       " ('05', 'Eda', '1991-12-01', 'F', 3.0),\n",
       " ('06', 'Eloise', '1992-03-01', 'F', 0.0),\n",
       " ('07', 'Silas', '1989-07-01', 'F', 4.0),\n",
       " ('09', 'Hazel', '2001-12-20', 'F', None),\n",
       " ('10', 'Oscar', '2002-12-25', 'F', None),\n",
       " ('11', 'Oscar', '2002-12-30', 'F', None),\n",
       " ('12', 'Royal', '2003-01-01', 'F', None),\n",
       " ('13', 'Lucy', '2002-01-01', 'F', None)]"
      ]
     },
     "execution_count": 3,
     "metadata": {},
     "output_type": "execute_result"
    }
   ],
   "source": [
    "%%sql\n",
    "select * from student"
   ]
  },
  {
   "cell_type": "code",
   "execution_count": 4,
   "id": "b33b3a32",
   "metadata": {},
   "outputs": [
    {
     "name": "stdout",
     "output_type": "stream",
     "text": [
      " * sqlite:///lab3.db\n",
      "Done.\n"
     ]
    },
    {
     "data": {
      "text/html": [
       "<table>\n",
       "    <thead>\n",
       "        <tr>\n",
       "            <th>PId</th>\n",
       "            <th>Pname</th>\n",
       "        </tr>\n",
       "    </thead>\n",
       "    <tbody>\n",
       "        <tr>\n",
       "            <td>01</td>\n",
       "            <td>Everett</td>\n",
       "        </tr>\n",
       "        <tr>\n",
       "            <td>02</td>\n",
       "            <td>Miles</td>\n",
       "        </tr>\n",
       "        <tr>\n",
       "            <td>03</td>\n",
       "            <td>June</td>\n",
       "        </tr>\n",
       "    </tbody>\n",
       "</table>"
      ],
      "text/plain": [
       "[('01', 'Everett'), ('02', 'Miles'), ('03', 'June')]"
      ]
     },
     "execution_count": 4,
     "metadata": {},
     "output_type": "execute_result"
    }
   ],
   "source": [
    "%%sql\n",
    "select * from instructor"
   ]
  },
  {
   "cell_type": "code",
   "execution_count": 5,
   "id": "1073418b",
   "metadata": {},
   "outputs": [
    {
     "name": "stdout",
     "output_type": "stream",
     "text": [
      " * sqlite:///lab3.db\n",
      "Done.\n"
     ]
    },
    {
     "data": {
      "text/html": [
       "<table>\n",
       "    <thead>\n",
       "        <tr>\n",
       "            <th>CId</th>\n",
       "            <th>Cname</th>\n",
       "            <th>PId</th>\n",
       "        </tr>\n",
       "    </thead>\n",
       "    <tbody>\n",
       "        <tr>\n",
       "            <td>01</td>\n",
       "            <td>History</td>\n",
       "            <td>02</td>\n",
       "        </tr>\n",
       "        <tr>\n",
       "            <td>02</td>\n",
       "            <td>Calculus</td>\n",
       "            <td>01</td>\n",
       "        </tr>\n",
       "        <tr>\n",
       "            <td>03</td>\n",
       "            <td>CS-I</td>\n",
       "            <td>03</td>\n",
       "        </tr>\n",
       "    </tbody>\n",
       "</table>"
      ],
      "text/plain": [
       "[('01', 'History', '02'), ('02', 'Calculus', '01'), ('03', 'CS-I', '03')]"
      ]
     },
     "execution_count": 5,
     "metadata": {},
     "output_type": "execute_result"
    }
   ],
   "source": [
    "%%sql\n",
    "select * from course"
   ]
  },
  {
   "cell_type": "code",
   "execution_count": 6,
   "id": "da1e68c6",
   "metadata": {},
   "outputs": [
    {
     "name": "stdout",
     "output_type": "stream",
     "text": [
      " * sqlite:///lab3.db\n",
      "Done.\n"
     ]
    },
    {
     "data": {
      "text/html": [
       "<table>\n",
       "    <thead>\n",
       "        <tr>\n",
       "            <th>SId</th>\n",
       "            <th>CId</th>\n",
       "            <th>score</th>\n",
       "        </tr>\n",
       "    </thead>\n",
       "    <tbody>\n",
       "        <tr>\n",
       "            <td>01</td>\n",
       "            <td>01</td>\n",
       "            <td>80</td>\n",
       "        </tr>\n",
       "        <tr>\n",
       "            <td>01</td>\n",
       "            <td>02</td>\n",
       "            <td>90</td>\n",
       "        </tr>\n",
       "        <tr>\n",
       "            <td>01</td>\n",
       "            <td>03</td>\n",
       "            <td>99</td>\n",
       "        </tr>\n",
       "        <tr>\n",
       "            <td>02</td>\n",
       "            <td>01</td>\n",
       "            <td>70</td>\n",
       "        </tr>\n",
       "        <tr>\n",
       "            <td>02</td>\n",
       "            <td>02</td>\n",
       "            <td>60</td>\n",
       "        </tr>\n",
       "        <tr>\n",
       "            <td>02</td>\n",
       "            <td>03</td>\n",
       "            <td>80</td>\n",
       "        </tr>\n",
       "        <tr>\n",
       "            <td>03</td>\n",
       "            <td>01</td>\n",
       "            <td>80</td>\n",
       "        </tr>\n",
       "        <tr>\n",
       "            <td>03</td>\n",
       "            <td>02</td>\n",
       "            <td>80</td>\n",
       "        </tr>\n",
       "        <tr>\n",
       "            <td>03</td>\n",
       "            <td>03</td>\n",
       "            <td>80</td>\n",
       "        </tr>\n",
       "        <tr>\n",
       "            <td>04</td>\n",
       "            <td>01</td>\n",
       "            <td>50</td>\n",
       "        </tr>\n",
       "        <tr>\n",
       "            <td>04</td>\n",
       "            <td>02</td>\n",
       "            <td>30</td>\n",
       "        </tr>\n",
       "        <tr>\n",
       "            <td>04</td>\n",
       "            <td>03</td>\n",
       "            <td>20</td>\n",
       "        </tr>\n",
       "        <tr>\n",
       "            <td>05</td>\n",
       "            <td>01</td>\n",
       "            <td>76</td>\n",
       "        </tr>\n",
       "        <tr>\n",
       "            <td>05</td>\n",
       "            <td>02</td>\n",
       "            <td>87</td>\n",
       "        </tr>\n",
       "        <tr>\n",
       "            <td>06</td>\n",
       "            <td>01</td>\n",
       "            <td>31</td>\n",
       "        </tr>\n",
       "        <tr>\n",
       "            <td>06</td>\n",
       "            <td>03</td>\n",
       "            <td>34</td>\n",
       "        </tr>\n",
       "        <tr>\n",
       "            <td>07</td>\n",
       "            <td>02</td>\n",
       "            <td>89</td>\n",
       "        </tr>\n",
       "        <tr>\n",
       "            <td>07</td>\n",
       "            <td>03</td>\n",
       "            <td>98</td>\n",
       "        </tr>\n",
       "    </tbody>\n",
       "</table>"
      ],
      "text/plain": [
       "[('01', '01', 80),\n",
       " ('01', '02', 90),\n",
       " ('01', '03', 99),\n",
       " ('02', '01', 70),\n",
       " ('02', '02', 60),\n",
       " ('02', '03', 80),\n",
       " ('03', '01', 80),\n",
       " ('03', '02', 80),\n",
       " ('03', '03', 80),\n",
       " ('04', '01', 50),\n",
       " ('04', '02', 30),\n",
       " ('04', '03', 20),\n",
       " ('05', '01', 76),\n",
       " ('05', '02', 87),\n",
       " ('06', '01', 31),\n",
       " ('06', '03', 34),\n",
       " ('07', '02', 89),\n",
       " ('07', '03', 98)]"
      ]
     },
     "execution_count": 6,
     "metadata": {},
     "output_type": "execute_result"
    }
   ],
   "source": [
    "%%sql\n",
    "select * from grade"
   ]
  },
  {
   "cell_type": "markdown",
   "id": "6b08d1a0",
   "metadata": {},
   "source": [
    "### Question 1: Find the student id that has all the grades in between 80 and 90"
   ]
  },
  {
   "cell_type": "markdown",
   "id": "1573ae37",
   "metadata": {},
   "source": [
    "#### not every student has the same number of grade"
   ]
  },
  {
   "cell_type": "code",
   "execution_count": 7,
   "id": "9f10d2a6",
   "metadata": {},
   "outputs": [
    {
     "name": "stdout",
     "output_type": "stream",
     "text": [
      " * sqlite:///lab3.db\n",
      "Done.\n"
     ]
    },
    {
     "data": {
      "text/html": [
       "<table>\n",
       "    <thead>\n",
       "        <tr>\n",
       "            <th>SId</th>\n",
       "            <th>total_grade</th>\n",
       "        </tr>\n",
       "    </thead>\n",
       "    <tbody>\n",
       "        <tr>\n",
       "            <td>01</td>\n",
       "            <td>3</td>\n",
       "        </tr>\n",
       "        <tr>\n",
       "            <td>02</td>\n",
       "            <td>3</td>\n",
       "        </tr>\n",
       "        <tr>\n",
       "            <td>03</td>\n",
       "            <td>3</td>\n",
       "        </tr>\n",
       "        <tr>\n",
       "            <td>04</td>\n",
       "            <td>3</td>\n",
       "        </tr>\n",
       "        <tr>\n",
       "            <td>05</td>\n",
       "            <td>2</td>\n",
       "        </tr>\n",
       "        <tr>\n",
       "            <td>06</td>\n",
       "            <td>2</td>\n",
       "        </tr>\n",
       "        <tr>\n",
       "            <td>07</td>\n",
       "            <td>2</td>\n",
       "        </tr>\n",
       "    </tbody>\n",
       "</table>"
      ],
      "text/plain": [
       "[('01', 3), ('02', 3), ('03', 3), ('04', 3), ('05', 2), ('06', 2), ('07', 2)]"
      ]
     },
     "execution_count": 7,
     "metadata": {},
     "output_type": "execute_result"
    }
   ],
   "source": [
    "%%sql\n",
    "select sid, count(cid) as total_grade from grade\n",
    "group by sid"
   ]
  },
  {
   "cell_type": "markdown",
   "id": "c1d7278f",
   "metadata": {},
   "source": [
    "#### select those with grade between 80 and 90"
   ]
  },
  {
   "cell_type": "code",
   "execution_count": 8,
   "id": "49b46ff2",
   "metadata": {},
   "outputs": [
    {
     "name": "stdout",
     "output_type": "stream",
     "text": [
      " * sqlite:///lab3.db\n",
      "Done.\n"
     ]
    },
    {
     "data": {
      "text/html": [
       "<table>\n",
       "    <thead>\n",
       "        <tr>\n",
       "            <th>SId</th>\n",
       "            <th>valid_grade</th>\n",
       "        </tr>\n",
       "    </thead>\n",
       "    <tbody>\n",
       "        <tr>\n",
       "            <td>01</td>\n",
       "            <td>2</td>\n",
       "        </tr>\n",
       "        <tr>\n",
       "            <td>02</td>\n",
       "            <td>1</td>\n",
       "        </tr>\n",
       "        <tr>\n",
       "            <td>03</td>\n",
       "            <td>3</td>\n",
       "        </tr>\n",
       "        <tr>\n",
       "            <td>05</td>\n",
       "            <td>1</td>\n",
       "        </tr>\n",
       "        <tr>\n",
       "            <td>07</td>\n",
       "            <td>1</td>\n",
       "        </tr>\n",
       "    </tbody>\n",
       "</table>"
      ],
      "text/plain": [
       "[('01', 2), ('02', 1), ('03', 3), ('05', 1), ('07', 1)]"
      ]
     },
     "execution_count": 8,
     "metadata": {},
     "output_type": "execute_result"
    }
   ],
   "source": [
    "%%sql\n",
    "select sid, count(cid) as valid_grade from grade\n",
    "where score between 80 and 90\n",
    "group by sid"
   ]
  },
  {
   "cell_type": "markdown",
   "id": "3e5a1e68",
   "metadata": {},
   "source": [
    "#### select sid"
   ]
  },
  {
   "cell_type": "code",
   "execution_count": 9,
   "id": "d505ab06",
   "metadata": {},
   "outputs": [
    {
     "name": "stdout",
     "output_type": "stream",
     "text": [
      " * sqlite:///lab3.db\n",
      "Done.\n"
     ]
    },
    {
     "data": {
      "text/html": [
       "<table>\n",
       "    <thead>\n",
       "        <tr>\n",
       "            <th>sid</th>\n",
       "        </tr>\n",
       "    </thead>\n",
       "    <tbody>\n",
       "        <tr>\n",
       "            <td>03</td>\n",
       "        </tr>\n",
       "    </tbody>\n",
       "</table>"
      ],
      "text/plain": [
       "[('03',)]"
      ]
     },
     "execution_count": 9,
     "metadata": {},
     "output_type": "execute_result"
    }
   ],
   "source": [
    "%%sql\n",
    "select sid from (select sid, count(cid) as valid_grade from grade\n",
    "where score between 80 and 90\n",
    "group by sid)\n",
    "where valid_grade = (select total_grade from(select sid, count(cid) as total_grade from grade group by sid))"
   ]
  },
  {
   "cell_type": "markdown",
   "id": "1637a994",
   "metadata": {},
   "source": [
    "### Question 2: Find the students, who earned a higher grade in Calculus than his/her History class"
   ]
  },
  {
   "cell_type": "code",
   "execution_count": 10,
   "id": "8667db05",
   "metadata": {},
   "outputs": [
    {
     "name": "stdout",
     "output_type": "stream",
     "text": [
      " * sqlite:///lab3.db\n",
      "Done.\n"
     ]
    },
    {
     "data": {
      "text/html": [
       "<table>\n",
       "    <thead>\n",
       "        <tr>\n",
       "            <th>sid</th>\n",
       "            <th>sname</th>\n",
       "            <th>history</th>\n",
       "            <th>calculus</th>\n",
       "        </tr>\n",
       "    </thead>\n",
       "    <tbody>\n",
       "        <tr>\n",
       "            <td>01</td>\n",
       "            <td>Peter</td>\n",
       "            <td>80</td>\n",
       "            <td>90</td>\n",
       "        </tr>\n",
       "        <tr>\n",
       "            <td>05</td>\n",
       "            <td>Eda</td>\n",
       "            <td>76</td>\n",
       "            <td>87</td>\n",
       "        </tr>\n",
       "    </tbody>\n",
       "</table>"
      ],
      "text/plain": [
       "[('01', 'Peter', 80, 90), ('05', 'Eda', 76, 87)]"
      ]
     },
     "execution_count": 10,
     "metadata": {},
     "output_type": "execute_result"
    }
   ],
   "source": [
    "%%sql\n",
    "select * from (\n",
    "    select h.sid, s.sname, history, calculus from \n",
    "    (select sid, score as History from grade\n",
    "    where cid = \"01\") h,(select sid, score as Calculus from grade\n",
    "    where cid = \"02\") c, student s\n",
    "    where h.sid = c.sid\n",
    "    and s.sid = h.sid)\n",
    "where history < calculus"
   ]
  },
  {
   "cell_type": "markdown",
   "id": "e77d4017",
   "metadata": {},
   "source": [
    "### Question 3: Find the students, who earned a more than 70 average grade across all the courses he/she has taken"
   ]
  },
  {
   "cell_type": "code",
   "execution_count": 11,
   "id": "252c1a85",
   "metadata": {},
   "outputs": [
    {
     "name": "stdout",
     "output_type": "stream",
     "text": [
      " * sqlite:///lab3.db\n",
      "Done.\n"
     ]
    },
    {
     "data": {
      "text/html": [
       "<table>\n",
       "    <thead>\n",
       "        <tr>\n",
       "            <th>Sname</th>\n",
       "            <th>average_score</th>\n",
       "        </tr>\n",
       "    </thead>\n",
       "    <tbody>\n",
       "        <tr>\n",
       "            <td>Peter</td>\n",
       "            <td>89.66666666666667</td>\n",
       "        </tr>\n",
       "        <tr>\n",
       "            <td>Lee</td>\n",
       "            <td>80.0</td>\n",
       "        </tr>\n",
       "        <tr>\n",
       "            <td>Eda</td>\n",
       "            <td>81.5</td>\n",
       "        </tr>\n",
       "        <tr>\n",
       "            <td>Silas</td>\n",
       "            <td>93.5</td>\n",
       "        </tr>\n",
       "    </tbody>\n",
       "</table>"
      ],
      "text/plain": [
       "[('Peter', 89.66666666666667), ('Lee', 80.0), ('Eda', 81.5), ('Silas', 93.5)]"
      ]
     },
     "execution_count": 11,
     "metadata": {},
     "output_type": "execute_result"
    }
   ],
   "source": [
    "%%sql\n",
    "select s.sname, avg(score) as average_score\n",
    "from student s, grade g\n",
    "where s.sid = g.sid\n",
    "group by g.sid\n",
    "having average_score > 70"
   ]
  },
  {
   "cell_type": "markdown",
   "id": "ae0201ab",
   "metadata": {},
   "source": [
    "### Question 4: Find the students that did not take any courses taught by Professor Everett"
   ]
  },
  {
   "cell_type": "code",
   "execution_count": 12,
   "id": "14b3d2c3",
   "metadata": {},
   "outputs": [
    {
     "name": "stdout",
     "output_type": "stream",
     "text": [
      " * sqlite:///lab3.db\n",
      "Done.\n"
     ]
    },
    {
     "data": {
      "text/html": [
       "<table>\n",
       "    <thead>\n",
       "        <tr>\n",
       "            <th>Sname</th>\n",
       "        </tr>\n",
       "    </thead>\n",
       "    <tbody>\n",
       "        <tr>\n",
       "            <td>Eloise</td>\n",
       "        </tr>\n",
       "    </tbody>\n",
       "</table>"
      ],
      "text/plain": [
       "[('Eloise',)]"
      ]
     },
     "execution_count": 12,
     "metadata": {},
     "output_type": "execute_result"
    }
   ],
   "source": [
    "%%sql\n",
    "select distinct s.sname\n",
    "from student s, grade g\n",
    "where s.sid = g.sid\n",
    "except \n",
    "select s.sname\n",
    "from student s, grade g\n",
    "where s.sid = g.sid \n",
    "and g.cid=\"02\""
   ]
  },
  {
   "cell_type": "markdown",
   "id": "43774a92",
   "metadata": {},
   "source": [
    "### Question 5: Find the students, who took the course Calculus and have earned a grade, at least, higher than all students who took History course. Return the results in a descending order of grade"
   ]
  },
  {
   "cell_type": "code",
   "execution_count": 13,
   "id": "26562e0b",
   "metadata": {},
   "outputs": [
    {
     "name": "stdout",
     "output_type": "stream",
     "text": [
      " * sqlite:///lab3.db\n",
      "Done.\n"
     ]
    },
    {
     "data": {
      "text/html": [
       "<table>\n",
       "    <thead>\n",
       "        <tr>\n",
       "            <th>Sname</th>\n",
       "            <th>Calculus_Score</th>\n",
       "        </tr>\n",
       "    </thead>\n",
       "    <tbody>\n",
       "        <tr>\n",
       "            <td>Silas</td>\n",
       "            <td>89</td>\n",
       "        </tr>\n",
       "        <tr>\n",
       "            <td>Peter</td>\n",
       "            <td>90</td>\n",
       "        </tr>\n",
       "        <tr>\n",
       "            <td>Eda</td>\n",
       "            <td>87</td>\n",
       "        </tr>\n",
       "    </tbody>\n",
       "</table>"
      ],
      "text/plain": [
       "[('Silas', 89), ('Peter', 90), ('Eda', 87)]"
      ]
     },
     "execution_count": 13,
     "metadata": {},
     "output_type": "execute_result"
    }
   ],
   "source": [
    "%%sql\n",
    "select s.sname, g.score as Calculus_Score from grade g, student s\n",
    "where cid=\"02\"\n",
    "and score > (select max(score) as highest_history_score from grade\n",
    "where cid=\"01\")\n",
    "and s.sid = g.sid\n",
    "order by sname DESC"
   ]
  },
  {
   "cell_type": "markdown",
   "id": "843f12ed",
   "metadata": {},
   "source": [
    "### Question 6: Find the students, who did not take all the courses as presented in the Course table"
   ]
  },
  {
   "cell_type": "code",
   "execution_count": 14,
   "id": "651e1c31",
   "metadata": {},
   "outputs": [
    {
     "name": "stdout",
     "output_type": "stream",
     "text": [
      " * sqlite:///lab3.db\n",
      "Done.\n"
     ]
    },
    {
     "data": {
      "text/html": [
       "<table>\n",
       "    <thead>\n",
       "        <tr>\n",
       "            <th>SId</th>\n",
       "            <th>total_course</th>\n",
       "        </tr>\n",
       "    </thead>\n",
       "    <tbody>\n",
       "        <tr>\n",
       "            <td>01</td>\n",
       "            <td>3</td>\n",
       "        </tr>\n",
       "        <tr>\n",
       "            <td>02</td>\n",
       "            <td>3</td>\n",
       "        </tr>\n",
       "        <tr>\n",
       "            <td>03</td>\n",
       "            <td>3</td>\n",
       "        </tr>\n",
       "        <tr>\n",
       "            <td>04</td>\n",
       "            <td>3</td>\n",
       "        </tr>\n",
       "        <tr>\n",
       "            <td>05</td>\n",
       "            <td>2</td>\n",
       "        </tr>\n",
       "        <tr>\n",
       "            <td>06</td>\n",
       "            <td>2</td>\n",
       "        </tr>\n",
       "        <tr>\n",
       "            <td>07</td>\n",
       "            <td>2</td>\n",
       "        </tr>\n",
       "    </tbody>\n",
       "</table>"
      ],
      "text/plain": [
       "[('01', 3), ('02', 3), ('03', 3), ('04', 3), ('05', 2), ('06', 2), ('07', 2)]"
      ]
     },
     "execution_count": 14,
     "metadata": {},
     "output_type": "execute_result"
    }
   ],
   "source": [
    "%%sql\n",
    "select sid, count(cid) as total_course from grade\n",
    "group by sid"
   ]
  },
  {
   "cell_type": "code",
   "execution_count": 15,
   "id": "0c5dfb0e",
   "metadata": {},
   "outputs": [
    {
     "name": "stdout",
     "output_type": "stream",
     "text": [
      " * sqlite:///lab3.db\n",
      "Done.\n"
     ]
    },
    {
     "data": {
      "text/html": [
       "<table>\n",
       "    <thead>\n",
       "        <tr>\n",
       "            <th>sid</th>\n",
       "            <th>Sname</th>\n",
       "            <th>total_course</th>\n",
       "        </tr>\n",
       "    </thead>\n",
       "    <tbody>\n",
       "        <tr>\n",
       "            <td>05</td>\n",
       "            <td>Eda</td>\n",
       "            <td>2</td>\n",
       "        </tr>\n",
       "        <tr>\n",
       "            <td>06</td>\n",
       "            <td>Eloise</td>\n",
       "            <td>2</td>\n",
       "        </tr>\n",
       "        <tr>\n",
       "            <td>07</td>\n",
       "            <td>Silas</td>\n",
       "            <td>2</td>\n",
       "        </tr>\n",
       "    </tbody>\n",
       "</table>"
      ],
      "text/plain": [
       "[('05', 'Eda', 2), ('06', 'Eloise', 2), ('07', 'Silas', 2)]"
      ]
     },
     "execution_count": 15,
     "metadata": {},
     "output_type": "execute_result"
    }
   ],
   "source": [
    "%%sql\n",
    "select g.sid, s.sname, g.total_course from (\n",
    "    select sid, count(cid) as total_course from grade \n",
    "    group by sid) as g, student s\n",
    "where total_course < (select count(*) from course)\n",
    "and g.sid = s.sid"
   ]
  },
  {
   "cell_type": "markdown",
   "id": "a51e455d",
   "metadata": {},
   "source": [
    "### Question 7: Calculate the average grades from Male and Female students"
   ]
  },
  {
   "cell_type": "markdown",
   "id": "4f02a913",
   "metadata": {},
   "source": [
    "#### female average"
   ]
  },
  {
   "cell_type": "code",
   "execution_count": 16,
   "id": "5c6ecf2e",
   "metadata": {},
   "outputs": [
    {
     "name": "stdout",
     "output_type": "stream",
     "text": [
      " * sqlite:///lab3.db\n",
      "Done.\n"
     ]
    },
    {
     "data": {
      "text/html": [
       "<table>\n",
       "    <thead>\n",
       "        <tr>\n",
       "            <th>female_average</th>\n",
       "        </tr>\n",
       "    </thead>\n",
       "    <tbody>\n",
       "        <tr>\n",
       "            <td>69.16666666666667</td>\n",
       "        </tr>\n",
       "    </tbody>\n",
       "</table>"
      ],
      "text/plain": [
       "[(69.16666666666667,)]"
      ]
     },
     "execution_count": 16,
     "metadata": {},
     "output_type": "execute_result"
    }
   ],
   "source": [
    "%%sql\n",
    "select avg(score) as female_average \n",
    "from student s, grade g\n",
    "where s.sid=g.sid\n",
    "and s.sgender = \"F\""
   ]
  },
  {
   "cell_type": "markdown",
   "id": "adee5287",
   "metadata": {},
   "source": [
    "#### male average"
   ]
  },
  {
   "cell_type": "code",
   "execution_count": 17,
   "id": "ebe158b7",
   "metadata": {},
   "outputs": [
    {
     "name": "stdout",
     "output_type": "stream",
     "text": [
      " * sqlite:///lab3.db\n",
      "Done.\n"
     ]
    },
    {
     "data": {
      "text/html": [
       "<table>\n",
       "    <thead>\n",
       "        <tr>\n",
       "            <th>male_average</th>\n",
       "        </tr>\n",
       "    </thead>\n",
       "    <tbody>\n",
       "        <tr>\n",
       "            <td>68.25</td>\n",
       "        </tr>\n",
       "    </tbody>\n",
       "</table>"
      ],
      "text/plain": [
       "[(68.25,)]"
      ]
     },
     "execution_count": 17,
     "metadata": {},
     "output_type": "execute_result"
    }
   ],
   "source": [
    "%%sql\n",
    "select avg(score) as male_average\n",
    "from student s, grade g\n",
    "where s.sid=g.sid\n",
    "and s.sgender = \"M\""
   ]
  },
  {
   "cell_type": "markdown",
   "id": "d60c8993",
   "metadata": {},
   "source": [
    "### Question 8: Find the courses with highest enrollment"
   ]
  },
  {
   "cell_type": "code",
   "execution_count": 18,
   "id": "233ea084",
   "metadata": {},
   "outputs": [
    {
     "name": "stdout",
     "output_type": "stream",
     "text": [
      " * sqlite:///lab3.db\n",
      "Done.\n"
     ]
    },
    {
     "data": {
      "text/html": [
       "<table>\n",
       "    <thead>\n",
       "        <tr>\n",
       "            <th>Cname</th>\n",
       "            <th>enrollment</th>\n",
       "        </tr>\n",
       "    </thead>\n",
       "    <tbody>\n",
       "        <tr>\n",
       "            <td>History</td>\n",
       "            <td>6</td>\n",
       "        </tr>\n",
       "        <tr>\n",
       "            <td>Calculus</td>\n",
       "            <td>6</td>\n",
       "        </tr>\n",
       "        <tr>\n",
       "            <td>CS-I</td>\n",
       "            <td>6</td>\n",
       "        </tr>\n",
       "    </tbody>\n",
       "</table>"
      ],
      "text/plain": [
       "[('History', 6), ('Calculus', 6), ('CS-I', 6)]"
      ]
     },
     "execution_count": 18,
     "metadata": {},
     "output_type": "execute_result"
    }
   ],
   "source": [
    "%%sql\n",
    "select c.cname, count(g.cid) as enrollment\n",
    "from course c, grade g\n",
    "where c.cid=g.cid\n",
    "group by g.cid"
   ]
  },
  {
   "cell_type": "markdown",
   "id": "19c4621d",
   "metadata": {},
   "source": [
    "### Question 9: For each course, find the students who earned more than its average grade"
   ]
  },
  {
   "cell_type": "code",
   "execution_count": 19,
   "id": "9fc7e5ed",
   "metadata": {},
   "outputs": [
    {
     "name": "stdout",
     "output_type": "stream",
     "text": [
      " * sqlite:///lab3.db\n",
      "Done.\n"
     ]
    },
    {
     "data": {
      "text/html": [
       "<table>\n",
       "    <thead>\n",
       "        <tr>\n",
       "            <th>CId</th>\n",
       "            <th>course_average</th>\n",
       "        </tr>\n",
       "    </thead>\n",
       "    <tbody>\n",
       "        <tr>\n",
       "            <td>01</td>\n",
       "            <td>64.5</td>\n",
       "        </tr>\n",
       "        <tr>\n",
       "            <td>02</td>\n",
       "            <td>72.66666666666667</td>\n",
       "        </tr>\n",
       "        <tr>\n",
       "            <td>03</td>\n",
       "            <td>68.5</td>\n",
       "        </tr>\n",
       "    </tbody>\n",
       "</table>"
      ],
      "text/plain": [
       "[('01', 64.5), ('02', 72.66666666666667), ('03', 68.5)]"
      ]
     },
     "execution_count": 19,
     "metadata": {},
     "output_type": "execute_result"
    }
   ],
   "source": [
    "%%sql \n",
    "select g.cid, avg(g.score) as course_average\n",
    "from grade g\n",
    "group by g.cid"
   ]
  },
  {
   "cell_type": "code",
   "execution_count": 20,
   "id": "624563f9",
   "metadata": {},
   "outputs": [
    {
     "name": "stdout",
     "output_type": "stream",
     "text": [
      " * sqlite:///lab3.db\n",
      "Done.\n"
     ]
    },
    {
     "data": {
      "text/html": [
       "<table>\n",
       "    <thead>\n",
       "        <tr>\n",
       "            <th>CId</th>\n",
       "            <th>Sname</th>\n",
       "            <th>score</th>\n",
       "            <th>course_average</th>\n",
       "        </tr>\n",
       "    </thead>\n",
       "    <tbody>\n",
       "        <tr>\n",
       "            <td>01</td>\n",
       "            <td>Peter</td>\n",
       "            <td>80</td>\n",
       "            <td>64.5</td>\n",
       "        </tr>\n",
       "        <tr>\n",
       "            <td>01</td>\n",
       "            <td>Sam</td>\n",
       "            <td>70</td>\n",
       "            <td>64.5</td>\n",
       "        </tr>\n",
       "        <tr>\n",
       "            <td>01</td>\n",
       "            <td>Lee</td>\n",
       "            <td>80</td>\n",
       "            <td>64.5</td>\n",
       "        </tr>\n",
       "        <tr>\n",
       "            <td>01</td>\n",
       "            <td>Eda</td>\n",
       "            <td>76</td>\n",
       "            <td>64.5</td>\n",
       "        </tr>\n",
       "        <tr>\n",
       "            <td>02</td>\n",
       "            <td>Peter</td>\n",
       "            <td>90</td>\n",
       "            <td>72.66666666666667</td>\n",
       "        </tr>\n",
       "        <tr>\n",
       "            <td>02</td>\n",
       "            <td>Lee</td>\n",
       "            <td>80</td>\n",
       "            <td>72.66666666666667</td>\n",
       "        </tr>\n",
       "        <tr>\n",
       "            <td>02</td>\n",
       "            <td>Eda</td>\n",
       "            <td>87</td>\n",
       "            <td>72.66666666666667</td>\n",
       "        </tr>\n",
       "        <tr>\n",
       "            <td>02</td>\n",
       "            <td>Silas</td>\n",
       "            <td>89</td>\n",
       "            <td>72.66666666666667</td>\n",
       "        </tr>\n",
       "        <tr>\n",
       "            <td>03</td>\n",
       "            <td>Peter</td>\n",
       "            <td>99</td>\n",
       "            <td>68.5</td>\n",
       "        </tr>\n",
       "        <tr>\n",
       "            <td>03</td>\n",
       "            <td>Sam</td>\n",
       "            <td>80</td>\n",
       "            <td>68.5</td>\n",
       "        </tr>\n",
       "        <tr>\n",
       "            <td>03</td>\n",
       "            <td>Lee</td>\n",
       "            <td>80</td>\n",
       "            <td>68.5</td>\n",
       "        </tr>\n",
       "        <tr>\n",
       "            <td>03</td>\n",
       "            <td>Silas</td>\n",
       "            <td>98</td>\n",
       "            <td>68.5</td>\n",
       "        </tr>\n",
       "    </tbody>\n",
       "</table>"
      ],
      "text/plain": [
       "[('01', 'Peter', 80, 64.5),\n",
       " ('01', 'Sam', 70, 64.5),\n",
       " ('01', 'Lee', 80, 64.5),\n",
       " ('01', 'Eda', 76, 64.5),\n",
       " ('02', 'Peter', 90, 72.66666666666667),\n",
       " ('02', 'Lee', 80, 72.66666666666667),\n",
       " ('02', 'Eda', 87, 72.66666666666667),\n",
       " ('02', 'Silas', 89, 72.66666666666667),\n",
       " ('03', 'Peter', 99, 68.5),\n",
       " ('03', 'Sam', 80, 68.5),\n",
       " ('03', 'Lee', 80, 68.5),\n",
       " ('03', 'Silas', 98, 68.5)]"
      ]
     },
     "execution_count": 20,
     "metadata": {},
     "output_type": "execute_result"
    }
   ],
   "source": [
    "%%sql\n",
    "select g.cid, s.sname, score, course_average from grade g, (\n",
    "    select g.cid, avg(g.score) as course_average\n",
    "    from grade g\n",
    "    group by g.cid) as average, student s\n",
    "where average.cid = g.cid\n",
    "and score > course_average\n",
    "and g.sid = s.sid\n",
    "order by g.cid"
   ]
  },
  {
   "cell_type": "markdown",
   "id": "515bae0a",
   "metadata": {},
   "source": [
    "### Question 10: Add column \"GPA\" in the student table and calculate the GPA for each student. <br>\n",
    "#### Based on the grade, >=90 is A(4.0), >=87 is A-(3.7), >=83 is B+ (3.3), >=80 is B(3.0), >=77 is B-(2.7), >=70 is C (2.0), <=70 and >60 is D(1.0) and <=60 is F(0)"
   ]
  },
  {
   "cell_type": "markdown",
   "id": "7a273a6e",
   "metadata": {},
   "source": [
    "#### 1) drop GPA column if exist"
   ]
  },
  {
   "cell_type": "code",
   "execution_count": 21,
   "id": "f32f3848",
   "metadata": {},
   "outputs": [
    {
     "name": "stdout",
     "output_type": "stream",
     "text": [
      " * sqlite:///lab3.db\n",
      "Done.\n"
     ]
    },
    {
     "data": {
      "text/plain": [
       "[]"
      ]
     },
     "execution_count": 21,
     "metadata": {},
     "output_type": "execute_result"
    }
   ],
   "source": [
    "%%sql\n",
    "alter Table student\n",
    "drop column GPA"
   ]
  },
  {
   "cell_type": "markdown",
   "id": "3c9fe033",
   "metadata": {},
   "source": [
    "#### 2) add new GPA columns"
   ]
  },
  {
   "cell_type": "code",
   "execution_count": 22,
   "id": "b80ffaba",
   "metadata": {},
   "outputs": [
    {
     "name": "stdout",
     "output_type": "stream",
     "text": [
      " * sqlite:///lab3.db\n",
      "Done.\n"
     ]
    },
    {
     "data": {
      "text/plain": [
       "[]"
      ]
     },
     "execution_count": 22,
     "metadata": {},
     "output_type": "execute_result"
    }
   ],
   "source": [
    "%%sql\n",
    "alter Table student \n",
    "add GPA float"
   ]
  },
  {
   "cell_type": "markdown",
   "id": "706f8f1c",
   "metadata": {},
   "source": [
    "#### 3) calculating average for each student "
   ]
  },
  {
   "cell_type": "code",
   "execution_count": 23,
   "id": "40bb23ff",
   "metadata": {},
   "outputs": [
    {
     "name": "stdout",
     "output_type": "stream",
     "text": [
      " * sqlite:///lab3.db\n",
      "Done.\n"
     ]
    },
    {
     "data": {
      "text/html": [
       "<table>\n",
       "    <thead>\n",
       "        <tr>\n",
       "            <th>SId</th>\n",
       "            <th>Sname</th>\n",
       "            <th>average</th>\n",
       "        </tr>\n",
       "    </thead>\n",
       "    <tbody>\n",
       "        <tr>\n",
       "            <td>01</td>\n",
       "            <td>Peter</td>\n",
       "            <td>89.66666666666667</td>\n",
       "        </tr>\n",
       "        <tr>\n",
       "            <td>02</td>\n",
       "            <td>Sam</td>\n",
       "            <td>70.0</td>\n",
       "        </tr>\n",
       "        <tr>\n",
       "            <td>03</td>\n",
       "            <td>Lee</td>\n",
       "            <td>80.0</td>\n",
       "        </tr>\n",
       "        <tr>\n",
       "            <td>04</td>\n",
       "            <td>June</td>\n",
       "            <td>33.333333333333336</td>\n",
       "        </tr>\n",
       "        <tr>\n",
       "            <td>05</td>\n",
       "            <td>Eda</td>\n",
       "            <td>81.5</td>\n",
       "        </tr>\n",
       "        <tr>\n",
       "            <td>06</td>\n",
       "            <td>Eloise</td>\n",
       "            <td>32.5</td>\n",
       "        </tr>\n",
       "        <tr>\n",
       "            <td>07</td>\n",
       "            <td>Silas</td>\n",
       "            <td>93.5</td>\n",
       "        </tr>\n",
       "    </tbody>\n",
       "</table>"
      ],
      "text/plain": [
       "[('01', 'Peter', 89.66666666666667),\n",
       " ('02', 'Sam', 70.0),\n",
       " ('03', 'Lee', 80.0),\n",
       " ('04', 'June', 33.333333333333336),\n",
       " ('05', 'Eda', 81.5),\n",
       " ('06', 'Eloise', 32.5),\n",
       " ('07', 'Silas', 93.5)]"
      ]
     },
     "execution_count": 23,
     "metadata": {},
     "output_type": "execute_result"
    }
   ],
   "source": [
    "%%sql\n",
    "select s.sid, s.sname, g.average\n",
    "from (select sid, avg(score) as average\n",
    "        from grade\n",
    "        group by sid) as g, student s\n",
    "where s.sid = g.sid"
   ]
  },
  {
   "cell_type": "markdown",
   "id": "577ca0f1",
   "metadata": {},
   "source": [
    "#### 4) updating student table other table g"
   ]
  },
  {
   "cell_type": "code",
   "execution_count": 24,
   "id": "b1024ff7",
   "metadata": {},
   "outputs": [
    {
     "name": "stdout",
     "output_type": "stream",
     "text": [
      " * sqlite:///lab3.db\n",
      "7 rows affected.\n"
     ]
    },
    {
     "data": {
      "text/plain": [
       "[]"
      ]
     },
     "execution_count": 24,
     "metadata": {},
     "output_type": "execute_result"
    }
   ],
   "source": [
    "%%sql\n",
    "update student \n",
    "set \n",
    "GPA = g.average\n",
    "from (select s.sid, s.sname, g.average\n",
    "from (select sid, avg(score) as average\n",
    "        from grade\n",
    "        group by sid) as g, student s\n",
    "where s.sid = g.sid) g\n",
    "where g.sid = student.sid"
   ]
  },
  {
   "cell_type": "markdown",
   "id": "f3cbab7a",
   "metadata": {},
   "source": [
    "#### 5) display new table"
   ]
  },
  {
   "cell_type": "code",
   "execution_count": 25,
   "id": "31db7f1c",
   "metadata": {},
   "outputs": [
    {
     "name": "stdout",
     "output_type": "stream",
     "text": [
      " * sqlite:///lab3.db\n",
      "Done.\n"
     ]
    },
    {
     "data": {
      "text/html": [
       "<table>\n",
       "    <thead>\n",
       "        <tr>\n",
       "            <th>SId</th>\n",
       "            <th>Sname</th>\n",
       "            <th>Sage</th>\n",
       "            <th>Sgender</th>\n",
       "            <th>GPA</th>\n",
       "        </tr>\n",
       "    </thead>\n",
       "    <tbody>\n",
       "        <tr>\n",
       "            <td>01</td>\n",
       "            <td>Peter</td>\n",
       "            <td>1990-01-01</td>\n",
       "            <td>M</td>\n",
       "            <td>89.66666666666667</td>\n",
       "        </tr>\n",
       "        <tr>\n",
       "            <td>02</td>\n",
       "            <td>Sam</td>\n",
       "            <td>1990-12-21</td>\n",
       "            <td>M</td>\n",
       "            <td>70.0</td>\n",
       "        </tr>\n",
       "        <tr>\n",
       "            <td>03</td>\n",
       "            <td>Lee</td>\n",
       "            <td>1990-05-20</td>\n",
       "            <td>M</td>\n",
       "            <td>80.0</td>\n",
       "        </tr>\n",
       "        <tr>\n",
       "            <td>04</td>\n",
       "            <td>June</td>\n",
       "            <td>1990-08-06</td>\n",
       "            <td>M</td>\n",
       "            <td>33.333333333333336</td>\n",
       "        </tr>\n",
       "        <tr>\n",
       "            <td>05</td>\n",
       "            <td>Eda</td>\n",
       "            <td>1991-12-01</td>\n",
       "            <td>F</td>\n",
       "            <td>81.5</td>\n",
       "        </tr>\n",
       "        <tr>\n",
       "            <td>06</td>\n",
       "            <td>Eloise</td>\n",
       "            <td>1992-03-01</td>\n",
       "            <td>F</td>\n",
       "            <td>32.5</td>\n",
       "        </tr>\n",
       "        <tr>\n",
       "            <td>07</td>\n",
       "            <td>Silas</td>\n",
       "            <td>1989-07-01</td>\n",
       "            <td>F</td>\n",
       "            <td>93.5</td>\n",
       "        </tr>\n",
       "        <tr>\n",
       "            <td>09</td>\n",
       "            <td>Hazel</td>\n",
       "            <td>2001-12-20</td>\n",
       "            <td>F</td>\n",
       "            <td>None</td>\n",
       "        </tr>\n",
       "        <tr>\n",
       "            <td>10</td>\n",
       "            <td>Oscar</td>\n",
       "            <td>2002-12-25</td>\n",
       "            <td>F</td>\n",
       "            <td>None</td>\n",
       "        </tr>\n",
       "        <tr>\n",
       "            <td>11</td>\n",
       "            <td>Oscar</td>\n",
       "            <td>2002-12-30</td>\n",
       "            <td>F</td>\n",
       "            <td>None</td>\n",
       "        </tr>\n",
       "        <tr>\n",
       "            <td>12</td>\n",
       "            <td>Royal</td>\n",
       "            <td>2003-01-01</td>\n",
       "            <td>F</td>\n",
       "            <td>None</td>\n",
       "        </tr>\n",
       "        <tr>\n",
       "            <td>13</td>\n",
       "            <td>Lucy</td>\n",
       "            <td>2002-01-01</td>\n",
       "            <td>F</td>\n",
       "            <td>None</td>\n",
       "        </tr>\n",
       "    </tbody>\n",
       "</table>"
      ],
      "text/plain": [
       "[('01', 'Peter', '1990-01-01', 'M', 89.66666666666667),\n",
       " ('02', 'Sam', '1990-12-21', 'M', 70.0),\n",
       " ('03', 'Lee', '1990-05-20', 'M', 80.0),\n",
       " ('04', 'June', '1990-08-06', 'M', 33.333333333333336),\n",
       " ('05', 'Eda', '1991-12-01', 'F', 81.5),\n",
       " ('06', 'Eloise', '1992-03-01', 'F', 32.5),\n",
       " ('07', 'Silas', '1989-07-01', 'F', 93.5),\n",
       " ('09', 'Hazel', '2001-12-20', 'F', None),\n",
       " ('10', 'Oscar', '2002-12-25', 'F', None),\n",
       " ('11', 'Oscar', '2002-12-30', 'F', None),\n",
       " ('12', 'Royal', '2003-01-01', 'F', None),\n",
       " ('13', 'Lucy', '2002-01-01', 'F', None)]"
      ]
     },
     "execution_count": 25,
     "metadata": {},
     "output_type": "execute_result"
    }
   ],
   "source": [
    "%%sql \n",
    "select * from student"
   ]
  },
  {
   "cell_type": "markdown",
   "id": "4302a497",
   "metadata": {},
   "source": [
    "#### 6) update new student table attribute value by replacing original value with new one"
   ]
  },
  {
   "cell_type": "code",
   "execution_count": 26,
   "id": "3091fa4c",
   "metadata": {},
   "outputs": [
    {
     "name": "stdout",
     "output_type": "stream",
     "text": [
      " * sqlite:///lab3.db\n",
      "12 rows affected.\n"
     ]
    },
    {
     "data": {
      "text/plain": [
       "[]"
      ]
     },
     "execution_count": 26,
     "metadata": {},
     "output_type": "execute_result"
    }
   ],
   "source": [
    "%%sql\n",
    "update student\n",
    "set GPA = CASE\n",
    "when GPA >= 90 then 4.0\n",
    "when GPA >= 87 then 3.7\n",
    "when GPA >= 83 then 3.3\n",
    "when GPA >= 80 then 3.0\n",
    "when GPA >= 77 then 2.7\n",
    "when GPA >= 70 then 2.0\n",
    "when GPA <= 70 and GPA >60 then 1.0\n",
    "when GPA <= 60 then 0\n",
    "end"
   ]
  },
  {
   "cell_type": "code",
   "execution_count": 27,
   "id": "c979b94e",
   "metadata": {},
   "outputs": [
    {
     "name": "stdout",
     "output_type": "stream",
     "text": [
      " * sqlite:///lab3.db\n",
      "Done.\n"
     ]
    },
    {
     "data": {
      "text/html": [
       "<table>\n",
       "    <thead>\n",
       "        <tr>\n",
       "            <th>SId</th>\n",
       "            <th>Sname</th>\n",
       "            <th>Sage</th>\n",
       "            <th>Sgender</th>\n",
       "            <th>GPA</th>\n",
       "        </tr>\n",
       "    </thead>\n",
       "    <tbody>\n",
       "        <tr>\n",
       "            <td>01</td>\n",
       "            <td>Peter</td>\n",
       "            <td>1990-01-01</td>\n",
       "            <td>M</td>\n",
       "            <td>3.7</td>\n",
       "        </tr>\n",
       "        <tr>\n",
       "            <td>02</td>\n",
       "            <td>Sam</td>\n",
       "            <td>1990-12-21</td>\n",
       "            <td>M</td>\n",
       "            <td>2.0</td>\n",
       "        </tr>\n",
       "        <tr>\n",
       "            <td>03</td>\n",
       "            <td>Lee</td>\n",
       "            <td>1990-05-20</td>\n",
       "            <td>M</td>\n",
       "            <td>3.0</td>\n",
       "        </tr>\n",
       "        <tr>\n",
       "            <td>04</td>\n",
       "            <td>June</td>\n",
       "            <td>1990-08-06</td>\n",
       "            <td>M</td>\n",
       "            <td>0.0</td>\n",
       "        </tr>\n",
       "        <tr>\n",
       "            <td>05</td>\n",
       "            <td>Eda</td>\n",
       "            <td>1991-12-01</td>\n",
       "            <td>F</td>\n",
       "            <td>3.0</td>\n",
       "        </tr>\n",
       "        <tr>\n",
       "            <td>06</td>\n",
       "            <td>Eloise</td>\n",
       "            <td>1992-03-01</td>\n",
       "            <td>F</td>\n",
       "            <td>0.0</td>\n",
       "        </tr>\n",
       "        <tr>\n",
       "            <td>07</td>\n",
       "            <td>Silas</td>\n",
       "            <td>1989-07-01</td>\n",
       "            <td>F</td>\n",
       "            <td>4.0</td>\n",
       "        </tr>\n",
       "        <tr>\n",
       "            <td>09</td>\n",
       "            <td>Hazel</td>\n",
       "            <td>2001-12-20</td>\n",
       "            <td>F</td>\n",
       "            <td>None</td>\n",
       "        </tr>\n",
       "        <tr>\n",
       "            <td>10</td>\n",
       "            <td>Oscar</td>\n",
       "            <td>2002-12-25</td>\n",
       "            <td>F</td>\n",
       "            <td>None</td>\n",
       "        </tr>\n",
       "        <tr>\n",
       "            <td>11</td>\n",
       "            <td>Oscar</td>\n",
       "            <td>2002-12-30</td>\n",
       "            <td>F</td>\n",
       "            <td>None</td>\n",
       "        </tr>\n",
       "        <tr>\n",
       "            <td>12</td>\n",
       "            <td>Royal</td>\n",
       "            <td>2003-01-01</td>\n",
       "            <td>F</td>\n",
       "            <td>None</td>\n",
       "        </tr>\n",
       "        <tr>\n",
       "            <td>13</td>\n",
       "            <td>Lucy</td>\n",
       "            <td>2002-01-01</td>\n",
       "            <td>F</td>\n",
       "            <td>None</td>\n",
       "        </tr>\n",
       "    </tbody>\n",
       "</table>"
      ],
      "text/plain": [
       "[('01', 'Peter', '1990-01-01', 'M', 3.7),\n",
       " ('02', 'Sam', '1990-12-21', 'M', 2.0),\n",
       " ('03', 'Lee', '1990-05-20', 'M', 3.0),\n",
       " ('04', 'June', '1990-08-06', 'M', 0.0),\n",
       " ('05', 'Eda', '1991-12-01', 'F', 3.0),\n",
       " ('06', 'Eloise', '1992-03-01', 'F', 0.0),\n",
       " ('07', 'Silas', '1989-07-01', 'F', 4.0),\n",
       " ('09', 'Hazel', '2001-12-20', 'F', None),\n",
       " ('10', 'Oscar', '2002-12-25', 'F', None),\n",
       " ('11', 'Oscar', '2002-12-30', 'F', None),\n",
       " ('12', 'Royal', '2003-01-01', 'F', None),\n",
       " ('13', 'Lucy', '2002-01-01', 'F', None)]"
      ]
     },
     "execution_count": 27,
     "metadata": {},
     "output_type": "execute_result"
    }
   ],
   "source": [
    "%%sql\n",
    "select * from student"
   ]
  }
 ],
 "metadata": {
  "kernelspec": {
   "display_name": "Python 3.10 (tensorflow)",
   "language": "python",
   "name": "tensorflow"
  },
  "language_info": {
   "codemirror_mode": {
    "name": "ipython",
    "version": 3
   },
   "file_extension": ".py",
   "mimetype": "text/x-python",
   "name": "python",
   "nbconvert_exporter": "python",
   "pygments_lexer": "ipython3",
   "version": "3.9.13"
  }
 },
 "nbformat": 4,
 "nbformat_minor": 5
}
