{
 "cells": [
  {
   "cell_type": "markdown",
   "id": "d54912e9",
   "metadata": {},
   "source": [
    "# Packages"
   ]
  },
  {
   "cell_type": "code",
   "execution_count": 1,
   "id": "90d2dae7",
   "metadata": {},
   "outputs": [],
   "source": [
    "import numpy as np\n",
    "import pandas as pd\n",
    "import matplotlib.pyplot as plt\n",
    "import seaborn as sns\n",
    "\n",
    "%matplotlib inline\n",
    "sns.set_style(\"darkgrid\")"
   ]
  },
  {
   "cell_type": "markdown",
   "id": "045351bc",
   "metadata": {},
   "source": [
    "# Setup Input Data"
   ]
  },
  {
   "cell_type": "code",
   "execution_count": 2,
   "id": "c77164a0",
   "metadata": {},
   "outputs": [],
   "source": [
    "# XOR, AND, OR gates\n",
    "x_XOR = np.array(([0, 0], [0, 1], [1, 0], [1, 1]), dtype=int)\n",
    "y_XOR = np.array(([0], [1], [1], [0]), dtype=int)\n",
    "\n",
    "x_AND = np.array(([0, 0], [0, 1], [1, 0], [1, 1]), dtype=int)\n",
    "y_AND = np.array(([0], [0], [0], [1]), dtype=int)\n",
    "\n",
    "x_OR = np.array(([0, 0], [0, 1], [1, 0], [1, 1]), dtype=int)\n",
    "y_OR = np.array(([0], [1], [1], [1]), dtype=int)"
   ]
  },
  {
   "cell_type": "code",
   "execution_count": 3,
   "id": "8d6bf2f8",
   "metadata": {},
   "outputs": [
    {
     "name": "stdout",
     "output_type": "stream",
     "text": [
      "XOR gates as example\n",
      "====================\n",
      "[[0 0]\n",
      " [0 1]\n",
      " [1 0]\n",
      " [1 1]]\n",
      "\n",
      "[[0]\n",
      " [1]\n",
      " [1]\n",
      " [0]]\n",
      "\n"
     ]
    }
   ],
   "source": [
    "print(\"XOR gates as example\")\n",
    "print(\"====================\")\n",
    "print(x_XOR)\n",
    "print()\n",
    "print(y_XOR)\n",
    "print()"
   ]
  },
  {
   "cell_type": "markdown",
   "id": "fa82fc2d",
   "metadata": {},
   "source": [
    "# MSE Function & Accuracy Function"
   ]
  },
  {
   "cell_type": "code",
   "execution_count": 4,
   "id": "e6ef9c4a",
   "metadata": {},
   "outputs": [],
   "source": [
    "# MSE\n",
    "def mse(actual_y, predict_y):\n",
    "    return np.mean(np.square(actual_y - predict_y))\n",
    "\n",
    "# accuracy\n",
    "def acc(actual_y, predict_y):\n",
    "    correct_predicted = predict_y.round() == actual_y\n",
    "    accuracy = correct_predicted.mean()\n",
    "    \n",
    "    return accuracy"
   ]
  },
  {
   "cell_type": "markdown",
   "id": "bf429335",
   "metadata": {},
   "source": [
    "# Neural Network Class"
   ]
  },
  {
   "cell_type": "code",
   "execution_count": 5,
   "id": "99ba3ea9",
   "metadata": {},
   "outputs": [],
   "source": [
    "class NN(object):\n",
    "    \n",
    "    def __init__(self):\n",
    "        # parameters\n",
    "        self.inputSize = 2\n",
    "        self.outputSize = 1\n",
    "        self.hiddenSize = 4\n",
    "        self.learning_rate = 2 # try 0.1\n",
    "        \n",
    "        # weight\n",
    "        self.w1 = np.random.randn(self.inputSize, self.hiddenSize)\n",
    "        self.w2 = np.random.randn(self.hiddenSize, self.outputSize)\n",
    "        \n",
    "    \n",
    "    def sigmoid(self, s, diff=False):\n",
    "        # return the derivative of sigmoid function when diff == True\n",
    "        if (diff == True):\n",
    "            return s * (1 - s)\n",
    "        \n",
    "        # default, return original sigmoid function\n",
    "        return 1/(1 + np.exp(-s))\n",
    "    \n",
    "        \n",
    "    # forward propogation through the network\n",
    "    def forward(self, X):\n",
    "        # calculation fron input layer to hidden layer\n",
    "        self.hidden_layer = np.dot(X, self.w1)                  # matrix multiplication of input and its weight\n",
    "        self.hidden_layer = self.sigmoid(self.hidden_layer)     # calculate the activation function at input layer\n",
    "        \n",
    "        # hidden layer to output layer\n",
    "        self.output_layer = np.dot(self.hidden_layer, self.w2)  # dot product of hidden layer its weight\n",
    "        output = self.sigmoid(self.output_layer)                # calculate the activation function at hidden layer\n",
    "        return output                                           # return final output from forward propogation\n",
    "    \n",
    "    # backward propogation   \n",
    "    def backward(self, X, y, output):\n",
    "\n",
    "        # final weight\n",
    "        self.output_error = y - output                                          # error from training output\n",
    "        self.output_delta = self.output_error * self.sigmoid(output, diff=True) # y_k • (1 - y_k) • (t_k - y_k)\n",
    "        \n",
    "        # hidden weight\n",
    "        self.hidden_error = self.output_delta.dot(self.w2.T)                    # error from hidden output\n",
    "        self.hidden_delta = self.hidden_error * self.sigmoid(self.hidden_layer, diff=True) # {..} • \\sum(w • sigma)\n",
    "        \n",
    "        # update weight for input layers and hidden layers with the effect of learning rate\n",
    "        self.w1 += X.T.dot(self.hidden_delta) * self.learning_rate\n",
    "        self.w2 += self.hidden_layer.T.dot(self.output_delta) * self.learning_rate\n",
    "        \n",
    "    \n",
    "    # train the model\n",
    "    def train(self, X, y):\n",
    "        output = self.forward(X)\n",
    "        self.backward(X, y, output)"
   ]
  },
  {
   "cell_type": "markdown",
   "id": "87b96ded",
   "metadata": {},
   "source": [
    "# Training"
   ]
  },
  {
   "cell_type": "code",
   "execution_count": 6,
   "id": "1f15774c",
   "metadata": {},
   "outputs": [],
   "source": [
    "# setting training X, and actual y\n",
    "X = x_AND\n",
    "y = y_AND\n",
    "\n",
    "# testing\n",
    "plotting = {\"mse\": [], \"accuracy\": []}\n",
    "\n",
    "# create NN class instances\n",
    "nn = NN()\n",
    "\n",
    "# choose 10000 epochs for training\n",
    "for i in range(1000):\n",
    "    nn.train(X, y)\n",
    "    plotting[\"mse\"].append(mse(y, nn.forward(X)))     # collect every mean square error after each training\n",
    "    plotting[\"accuracy\"].append(acc(y, nn.forward(X)))# colecct every accuracy after each training"
   ]
  },
  {
   "cell_type": "markdown",
   "id": "2795a64e",
   "metadata": {},
   "source": [
    "# Display Result"
   ]
  },
  {
   "cell_type": "code",
   "execution_count": 7,
   "id": "65a9122b",
   "metadata": {},
   "outputs": [
    {
     "name": "stdout",
     "output_type": "stream",
     "text": [
      "Input:\n",
      "[[0 0]\n",
      " [0 1]\n",
      " [1 0]\n",
      " [1 1]]\n",
      "Actual Output:\n",
      "[[0]\n",
      " [0]\n",
      " [0]\n",
      " [1]]\n",
      "====================================================\n",
      "Loss:\n",
      "0.0004527424217764238\n",
      "====================================================\n",
      "Accuray: \n",
      "1.0\n",
      "====================================================\n",
      "predicted Output:\n",
      "[[0.00142079]\n",
      " [0.02061931]\n",
      " [0.0202248 ]\n",
      " [0.96877898]]\n",
      "====================================================\n",
      "hidden weight: \n",
      "[[ 1.55948184 -5.06294611  0.48585182  2.74278773]\n",
      " [-4.69073804  1.81599722 -3.05687802 -0.29839406]]\n",
      "\n",
      "output weight: \n",
      "[[-5.90992477]\n",
      " [-6.4623612 ]\n",
      " [-5.42106606]\n",
      " [ 4.68310643]]\n"
     ]
    }
   ],
   "source": [
    "print(\"Input:\")\n",
    "print(X)\n",
    "print(\"Actual Output:\")\n",
    "print(y)\n",
    "print(\"====================================================\")\n",
    "print(\"Loss:\")\n",
    "print(mse(y, nn.forward(X)))\n",
    "print(\"====================================================\")\n",
    "print(\"Accuray: \")\n",
    "print(acc(y, nn.forward(X)))\n",
    "print(\"====================================================\")\n",
    "print(\"predicted Output:\")\n",
    "print(str(nn.forward(X)))\n",
    "print(\"====================================================\")               \n",
    "print(\"hidden weight: \")\n",
    "print(nn.w1)\n",
    "print()\n",
    "print(\"output weight: \")\n",
    "print(nn.w2)"
   ]
  },
  {
   "cell_type": "code",
   "execution_count": 8,
   "id": "5b3b8875",
   "metadata": {},
   "outputs": [
    {
     "data": {
      "text/html": [
       "<div>\n",
       "<style scoped>\n",
       "    .dataframe tbody tr th:only-of-type {\n",
       "        vertical-align: middle;\n",
       "    }\n",
       "\n",
       "    .dataframe tbody tr th {\n",
       "        vertical-align: top;\n",
       "    }\n",
       "\n",
       "    .dataframe thead th {\n",
       "        text-align: right;\n",
       "    }\n",
       "</style>\n",
       "<table border=\"1\" class=\"dataframe\">\n",
       "  <thead>\n",
       "    <tr style=\"text-align: right;\">\n",
       "      <th></th>\n",
       "      <th>mse</th>\n",
       "      <th>accuracy</th>\n",
       "    </tr>\n",
       "  </thead>\n",
       "  <tbody>\n",
       "    <tr>\n",
       "      <th>0</th>\n",
       "      <td>0.246541</td>\n",
       "      <td>0.50</td>\n",
       "    </tr>\n",
       "    <tr>\n",
       "      <th>1</th>\n",
       "      <td>0.217565</td>\n",
       "      <td>0.75</td>\n",
       "    </tr>\n",
       "    <tr>\n",
       "      <th>2</th>\n",
       "      <td>0.202755</td>\n",
       "      <td>0.75</td>\n",
       "    </tr>\n",
       "    <tr>\n",
       "      <th>3</th>\n",
       "      <td>0.193301</td>\n",
       "      <td>0.75</td>\n",
       "    </tr>\n",
       "    <tr>\n",
       "      <th>4</th>\n",
       "      <td>0.185958</td>\n",
       "      <td>0.75</td>\n",
       "    </tr>\n",
       "    <tr>\n",
       "      <th>...</th>\n",
       "      <td>...</td>\n",
       "      <td>...</td>\n",
       "    </tr>\n",
       "    <tr>\n",
       "      <th>995</th>\n",
       "      <td>0.000455</td>\n",
       "      <td>1.00</td>\n",
       "    </tr>\n",
       "    <tr>\n",
       "      <th>996</th>\n",
       "      <td>0.000455</td>\n",
       "      <td>1.00</td>\n",
       "    </tr>\n",
       "    <tr>\n",
       "      <th>997</th>\n",
       "      <td>0.000454</td>\n",
       "      <td>1.00</td>\n",
       "    </tr>\n",
       "    <tr>\n",
       "      <th>998</th>\n",
       "      <td>0.000453</td>\n",
       "      <td>1.00</td>\n",
       "    </tr>\n",
       "    <tr>\n",
       "      <th>999</th>\n",
       "      <td>0.000453</td>\n",
       "      <td>1.00</td>\n",
       "    </tr>\n",
       "  </tbody>\n",
       "</table>\n",
       "<p>1000 rows × 2 columns</p>\n",
       "</div>"
      ],
      "text/plain": [
       "          mse  accuracy\n",
       "0    0.246541      0.50\n",
       "1    0.217565      0.75\n",
       "2    0.202755      0.75\n",
       "3    0.193301      0.75\n",
       "4    0.185958      0.75\n",
       "..        ...       ...\n",
       "995  0.000455      1.00\n",
       "996  0.000455      1.00\n",
       "997  0.000454      1.00\n",
       "998  0.000453      1.00\n",
       "999  0.000453      1.00\n",
       "\n",
       "[1000 rows x 2 columns]"
      ]
     },
     "execution_count": 8,
     "metadata": {},
     "output_type": "execute_result"
    }
   ],
   "source": [
    "plot_df = pd.DataFrame(plotting)\n",
    "plot_df"
   ]
  },
  {
   "cell_type": "markdown",
   "id": "636feb7b",
   "metadata": {},
   "source": [
    "# Plotting"
   ]
  },
  {
   "cell_type": "code",
   "execution_count": 9,
   "id": "4dc75d28",
   "metadata": {},
   "outputs": [
    {
     "data": {
      "text/plain": [
       "<AxesSubplot: title={'center': 'Accuracy'}>"
      ]
     },
     "execution_count": 9,
     "metadata": {},
     "output_type": "execute_result"
    },
    {
     "data": {
      "image/png": "[encoded data removed]",
      "text/plain": [
       "<Figure size 1500x500 with 2 Axes>"
      ]
     },
     "metadata": {},
     "output_type": "display_data"
    }
   ],
   "source": [
    "fig, axes = plt.subplots(1, 2, figsize=(15, 5))\n",
    "\n",
    "plot_df.mse.plot(ax=axes[0], title=\"Mean Squared Error\")\n",
    "plot_df.accuracy.plot(ax=axes[1], title=\"Accuracy\")"
   ]
  }
 ],
 "metadata": {
  "kernelspec": {
   "display_name": "Python 3.9 (tensorflow)",
   "language": "python",
   "name": "tensorflow"
  },
  "language_info": {
   "codemirror_mode": {
    "name": "ipython",
    "version": 3
   },
   "file_extension": ".py",
   "mimetype": "text/x-python",
   "name": "python",
   "nbconvert_exporter": "python",
   "pygments_lexer": "ipython3",
   "version": "3.8.13"
  }
 },
 "nbformat": 4,
 "nbformat_minor": 5
}
